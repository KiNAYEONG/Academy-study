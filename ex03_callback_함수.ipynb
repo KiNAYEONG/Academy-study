{
  "nbformat": 4,
  "nbformat_minor": 0,
  "metadata": {
    "colab": {
      "provenance": [],
      "mount_file_id": "1DsxVNj_Sjbz0ktdMSpmM1MC0F4Ga4DDZ",
      "authorship_tag": "ABX9TyOSTDnRlUATsiwkcqcMtTcx",
      "include_colab_link": true
    },
    "kernelspec": {
      "name": "python3",
      "display_name": "Python 3"
    },
    "language_info": {
      "name": "python"
    }
  },
  "cells": [
    {
      "cell_type": "markdown",
      "metadata": {
        "id": "view-in-github",
        "colab_type": "text"
      },
      "source": [
        "<a href=\"https://colab.research.google.com/github/KiNAYEONG/Academy-study/blob/main/ex03_callback_%ED%95%A8%EC%88%98.ipynb\" target=\"_parent\"><img src=\"https://colab.research.google.com/assets/colab-badge.svg\" alt=\"Open In Colab\"/></a>"
      ]
    },
    {
      "cell_type": "markdown",
      "source": [
        "### 목표\n",
        "- 손글씨 데이터를 활용하여 다양한 딥러닝 모델을 설계해보자!\n",
        "  - 0~9까지의 손글씨 데이터\n",
        "  - 활성화함수 -> sigmoid, relu(vanishing gradient 방지)\n",
        "  - 최적화함수 -> SGD(확률적경사하강법), Adam\n",
        "\n",
        "- 모델링에 도움이 되는 callback 함수\n",
        "(모델저장, 조기학습중단)"
      ],
      "metadata": {
        "id": "mKqBdy9IFlF0"
      }
    },
    {
      "cell_type": "code",
      "source": [
        "# 라이브러리 불러오기\n",
        "import numpy as np\n",
        "import pandas as pd\n",
        "import matplotlib.pyplot as plt\n",
        "import seaborn as sns"
      ],
      "metadata": {
        "id": "ugK3I7_CHcCv"
      },
      "execution_count": null,
      "outputs": []
    },
    {
      "cell_type": "code",
      "source": [
        "# 활성화함수 (relu), 최적화 함수(adam)\n"
      ],
      "metadata": {
        "id": "LoGb_DubFy65"
      },
      "execution_count": null,
      "outputs": []
    },
    {
      "cell_type": "markdown",
      "source": [
        "- 데이터로딩"
      ],
      "metadata": {
        "id": "abwrv9bQFzuh"
      }
    },
    {
      "cell_type": "code",
      "source": [
        "from tensorflow.keras.datasets import mnist"
      ],
      "metadata": {
        "id": "rsh7owiAFzsD"
      },
      "execution_count": null,
      "outputs": []
    },
    {
      "cell_type": "code",
      "source": [
        "(X_train, y_train), (X_test,y_test) = mnist.load_data()"
      ],
      "metadata": {
        "colab": {
          "base_uri": "https://localhost:8080/"
        },
        "id": "o26qQdShFzpz",
        "outputId": "6b69868a-18f9-4144-86c9-45b090af7f8e"
      },
      "execution_count": null,
      "outputs": [
        {
          "output_type": "stream",
          "name": "stdout",
          "text": [
            "Downloading data from https://storage.googleapis.com/tensorflow/tf-keras-datasets/mnist.npz\n",
            "\u001b[1m11490434/11490434\u001b[0m \u001b[32m━━━━━━━━━━━━━━━━━━━━\u001b[0m\u001b[37m\u001b[0m \u001b[1m0s\u001b[0m 0us/step\n"
          ]
        }
      ]
    },
    {
      "cell_type": "code",
      "source": [
        "print(X_train.shape, y_train.shape)\n",
        "print(X_test.shape, y_test.shape)\n",
        "# 학습용데이터 : 28*28 픽셀의 이미지데이터 6만장\n",
        "# 평가용데이터 : 28*28 픽셀의 이미지데이터 1만장"
      ],
      "metadata": {
        "colab": {
          "base_uri": "https://localhost:8080/"
        },
        "id": "DBhycQNZFznO",
        "outputId": "45808add-557a-4233-bc79-6a08f56f1cb5"
      },
      "execution_count": null,
      "outputs": [
        {
          "output_type": "stream",
          "name": "stdout",
          "text": [
            "(60000, 28, 28) (60000,)\n",
            "(10000, 28, 28) (10000,)\n"
          ]
        }
      ]
    },
    {
      "cell_type": "code",
      "source": [
        "# 정답데이터 확인 -> 클래스 개수 확인용!\n",
        "np.unique(y_train)\n",
        "# 0~9 까지 숫자를 가진다. -> 클래스 개수 10개 -> 다중분류"
      ],
      "metadata": {
        "colab": {
          "base_uri": "https://localhost:8080/"
        },
        "id": "aekIpGZYFzlG",
        "outputId": "b6edb75f-8860-446e-cdfa-ae7491ff3009"
      },
      "execution_count": null,
      "outputs": [
        {
          "output_type": "execute_result",
          "data": {
            "text/plain": [
              "array([0, 1, 2, 3, 4, 5, 6, 7, 8, 9], dtype=uint8)"
            ]
          },
          "metadata": {},
          "execution_count": 6
        }
      ]
    },
    {
      "cell_type": "code",
      "source": [
        "# 문제데이터, 사진데이터 확인\n",
        "plt.imshow(X_train[1000], cmap = 'gray')\n",
        "# 흑백사진이구나~~\n",
        "# 얼마나 흰색인지 검은색인지의 정도를 숫자로 가지고 있다.(0~255)\n",
        "# 0에 가까울수록 검정색, 1에 가까울수록 흰색"
      ],
      "metadata": {
        "colab": {
          "base_uri": "https://localhost:8080/",
          "height": 448
        },
        "id": "MnX2oWuxFzjA",
        "outputId": "b8bc60d9-a411-4471-890f-d32196d1798c"
      },
      "execution_count": null,
      "outputs": [
        {
          "output_type": "execute_result",
          "data": {
            "text/plain": [
              "<matplotlib.image.AxesImage at 0x7ef5c14bb820>"
            ]
          },
          "metadata": {},
          "execution_count": 7
        },
        {
          "output_type": "display_data",
          "data": {
            "text/plain": [
              "<Figure size 640x480 with 1 Axes>"
            ],
            "image/png": "[encoded data removed]"
          },
          "metadata": {}
        }
      ]
    },
    {
      "cell_type": "code",
      "source": [
        "y_train[1001]"
      ],
      "metadata": {
        "colab": {
          "base_uri": "https://localhost:8080/"
        },
        "id": "0WijL71UFzg6",
        "outputId": "56af112b-aab3-45a3-bd6b-778c8db8ca29"
      },
      "execution_count": null,
      "outputs": [
        {
          "output_type": "execute_result",
          "data": {
            "text/plain": [
              "7"
            ]
          },
          "metadata": {},
          "execution_count": 8
        }
      ]
    },
    {
      "cell_type": "code",
      "source": [
        "# 스스로 딥러닝모델 설계\n",
        "# 딥러닝 설계 도구 불러오기\n",
        "from tensorflow.keras.models import Sequential\n",
        "from tensorflow.keras.layers import Dense,InputLayer,Flatten\n",
        "# InputLayer : 입력층 설정\n",
        "# Flatten: 2차원의 사진데이터를 1차원으로 표현해주기 위한 클래스 for 선형모델 학습! 2차원은 선이 아니잖아~~\n",
        "\n",
        "# 뼈대생성\n",
        "model = Sequential()\n",
        "# 입력층\n",
        "model.add(InputLayer(shape=(28,28))) # 2차원\n",
        "model.add(Flatten()) # 평평하게 만들어줌.\n",
        "\n",
        "# 중간층 설계\n",
        "# 32, 64, 128, 64, 32 -> 활성화함수 : relu\n",
        "model.add(Dense(units = 32, activation = 'relu'))\n",
        "model.add(Dense(units = 64, activation='relu'))\n",
        "model.add(Dense(units = 128, activation='relu'))\n",
        "model.add(Dense(units = 64, activation='relu'))\n",
        "model.add(Dense(units = 32, activation='relu'))\n",
        "\n",
        "# 출력층 설계 -> 다중분류 (units = 클래스의 개수)\n",
        "model.add(Dense(10, activation=\"softmax\"))"
      ],
      "metadata": {
        "id": "hbaZFajaFze0"
      },
      "execution_count": null,
      "outputs": []
    },
    {
      "cell_type": "code",
      "source": [
        "# 학습방법 및 평가방법 -> 최적화함수: adam\n",
        "model.compile(optimizer='adam', loss='sparse_categorical_crossentropy', metrics=['accuracy'])"
      ],
      "metadata": {
        "id": "7MtRb96zFzc2"
      },
      "execution_count": null,
      "outputs": []
    },
    {
      "cell_type": "code",
      "source": [
        "# 모델학습\n",
        "model.fit(X_train, y_train, epochs=10, validation_split=0.2)\n",
        "# validation_split -> 학습데이터 내에서 검증데이터를 활용하여 일반화정도를 확인"
      ],
      "metadata": {
        "colab": {
          "base_uri": "https://localhost:8080/"
        },
        "id": "qWY3u32TFzbr",
        "outputId": "caae7ccb-105b-44fe-c320-a5fe462a9329"
      },
      "execution_count": null,
      "outputs": [
        {
          "output_type": "stream",
          "name": "stdout",
          "text": [
            "Epoch 1/10\n",
            "\u001b[1m1500/1500\u001b[0m \u001b[32m━━━━━━━━━━━━━━━━━━━━\u001b[0m\u001b[37m\u001b[0m \u001b[1m7s\u001b[0m 3ms/step - accuracy: 0.6736 - loss: 1.7959 - val_accuracy: 0.9056 - val_loss: 0.3305\n",
            "Epoch 2/10\n",
            "\u001b[1m1500/1500\u001b[0m \u001b[32m━━━━━━━━━━━━━━━━━━━━\u001b[0m\u001b[37m\u001b[0m \u001b[1m6s\u001b[0m 4ms/step - accuracy: 0.9127 - loss: 0.3039 - val_accuracy: 0.9329 - val_loss: 0.2379\n",
            "Epoch 3/10\n",
            "\u001b[1m1500/1500\u001b[0m \u001b[32m━━━━━━━━━━━━━━━━━━━━\u001b[0m\u001b[37m\u001b[0m \u001b[1m4s\u001b[0m 3ms/step - accuracy: 0.9363 - loss: 0.2236 - val_accuracy: 0.9362 - val_loss: 0.2234\n",
            "Epoch 4/10\n",
            "\u001b[1m1500/1500\u001b[0m \u001b[32m━━━━━━━━━━━━━━━━━━━━\u001b[0m\u001b[37m\u001b[0m \u001b[1m5s\u001b[0m 3ms/step - accuracy: 0.9487 - loss: 0.1805 - val_accuracy: 0.9408 - val_loss: 0.1986\n",
            "Epoch 5/10\n",
            "\u001b[1m1500/1500\u001b[0m \u001b[32m━━━━━━━━━━━━━━━━━━━━\u001b[0m\u001b[37m\u001b[0m \u001b[1m7s\u001b[0m 4ms/step - accuracy: 0.9508 - loss: 0.1739 - val_accuracy: 0.9492 - val_loss: 0.1844\n",
            "Epoch 6/10\n",
            "\u001b[1m1500/1500\u001b[0m \u001b[32m━━━━━━━━━━━━━━━━━━━━\u001b[0m\u001b[37m\u001b[0m \u001b[1m4s\u001b[0m 3ms/step - accuracy: 0.9569 - loss: 0.1524 - val_accuracy: 0.9527 - val_loss: 0.1782\n",
            "Epoch 7/10\n",
            "\u001b[1m1500/1500\u001b[0m \u001b[32m━━━━━━━━━━━━━━━━━━━━\u001b[0m\u001b[37m\u001b[0m \u001b[1m5s\u001b[0m 3ms/step - accuracy: 0.9592 - loss: 0.1381 - val_accuracy: 0.9525 - val_loss: 0.1698\n",
            "Epoch 8/10\n",
            "\u001b[1m1500/1500\u001b[0m \u001b[32m━━━━━━━━━━━━━━━━━━━━\u001b[0m\u001b[37m\u001b[0m \u001b[1m6s\u001b[0m 4ms/step - accuracy: 0.9637 - loss: 0.1231 - val_accuracy: 0.9565 - val_loss: 0.1635\n",
            "Epoch 9/10\n",
            "\u001b[1m1500/1500\u001b[0m \u001b[32m━━━━━━━━━━━━━━━━━━━━\u001b[0m\u001b[37m\u001b[0m \u001b[1m8s\u001b[0m 3ms/step - accuracy: 0.9688 - loss: 0.1085 - val_accuracy: 0.9574 - val_loss: 0.1625\n",
            "Epoch 10/10\n",
            "\u001b[1m1500/1500\u001b[0m \u001b[32m━━━━━━━━━━━━━━━━━━━━\u001b[0m\u001b[37m\u001b[0m \u001b[1m7s\u001b[0m 4ms/step - accuracy: 0.9679 - loss: 0.1094 - val_accuracy: 0.9572 - val_loss: 0.1692\n"
          ]
        },
        {
          "output_type": "execute_result",
          "data": {
            "text/plain": [
              "<keras.src.callbacks.history.History at 0x7ef5b9714310>"
            ]
          },
          "metadata": {},
          "execution_count": 11
        }
      ]
    },
    {
      "cell_type": "code",
      "source": [
        "model.history.history"
      ],
      "metadata": {
        "colab": {
          "base_uri": "https://localhost:8080/"
        },
        "collapsed": true,
        "id": "kltXvJZwN3jo",
        "outputId": "731824a4-4e14-4799-bb57-9f8685f688fe"
      },
      "execution_count": null,
      "outputs": [
        {
          "output_type": "execute_result",
          "data": {
            "text/plain": [
              "{'accuracy': [0.8021875023841858,\n",
              "  0.9167708158493042,\n",
              "  0.9361458420753479,\n",
              "  0.9473124742507935,\n",
              "  0.9517708420753479,\n",
              "  0.9568541646003723,\n",
              "  0.9601041674613953,\n",
              "  0.964062511920929,\n",
              "  0.965791642665863,\n",
              "  0.9679999947547913],\n",
              " 'loss': [0.7712453603744507,\n",
              "  0.2915824055671692,\n",
              "  0.22341489791870117,\n",
              "  0.1846434772014618,\n",
              "  0.16916856169700623,\n",
              "  0.15040704607963562,\n",
              "  0.13837969303131104,\n",
              "  0.12447530031204224,\n",
              "  0.11865700036287308,\n",
              "  0.11122690141201019],\n",
              " 'val_accuracy': [0.9055833220481873,\n",
              "  0.9329166412353516,\n",
              "  0.9361666440963745,\n",
              "  0.940833330154419,\n",
              "  0.9491666555404663,\n",
              "  0.9526666402816772,\n",
              "  0.9524999856948853,\n",
              "  0.9564999938011169,\n",
              "  0.9574166536331177,\n",
              "  0.9572499990463257],\n",
              " 'val_loss': [0.3304547369480133,\n",
              "  0.23786360025405884,\n",
              "  0.22341035306453705,\n",
              "  0.1985834389925003,\n",
              "  0.18440428376197815,\n",
              "  0.17818398773670197,\n",
              "  0.16980530321598053,\n",
              "  0.16349345445632935,\n",
              "  0.16254466772079468,\n",
              "  0.1692415028810501]}"
            ]
          },
          "metadata": {},
          "execution_count": 12
        }
      ]
    },
    {
      "cell_type": "code",
      "source": [
        "# 일반화 확인을 위한 곡선\n",
        "# 두 곡선 모두 오차가 하향하고 있으니 일반화\n",
        "# 만약 오차가 하향하다가 다시 오른다면 과대적합이지~\n",
        "plt.plot(model.history.history['loss'], label='loss')\n",
        "plt.plot(model.history.history['val_loss'], label='val_loss')\n",
        "plt.legend()"
      ],
      "metadata": {
        "colab": {
          "base_uri": "https://localhost:8080/",
          "height": 451
        },
        "id": "HiApUWCUHYH9",
        "outputId": "4d84dfb9-fabd-424d-fadf-f30f2b106a86"
      },
      "execution_count": null,
      "outputs": [
        {
          "output_type": "execute_result",
          "data": {
            "text/plain": [
              "<matplotlib.legend.Legend at 0x7ef5b9687460>"
            ]
          },
          "metadata": {},
          "execution_count": 13
        },
        {
          "output_type": "display_data",
          "data": {
            "text/plain": [
              "<Figure size 640x480 with 1 Axes>"
            ],
            "image/png": "[encoded data removed]"
          },
          "metadata": {}
        }
      ]
    },
    {
      "cell_type": "code",
      "source": [
        "# 평가\n",
        "model.evaluate(X_test, y_test)\n",
        "# 94% 정확도를 가진다!"
      ],
      "metadata": {
        "colab": {
          "base_uri": "https://localhost:8080/"
        },
        "id": "cK4kHJ1RHYFD",
        "outputId": "c97e3e10-189f-4015-834f-1c6529c57988"
      },
      "execution_count": null,
      "outputs": [
        {
          "output_type": "stream",
          "name": "stdout",
          "text": [
            "\u001b[1m313/313\u001b[0m \u001b[32m━━━━━━━━━━━━━━━━━━━━\u001b[0m\u001b[37m\u001b[0m \u001b[1m1s\u001b[0m 1ms/step - accuracy: 0.9517 - loss: 0.2034\n"
          ]
        },
        {
          "output_type": "execute_result",
          "data": {
            "text/plain": [
              "[0.17970198392868042, 0.95660001039505]"
            ]
          },
          "metadata": {},
          "execution_count": 14
        }
      ]
    },
    {
      "cell_type": "markdown",
      "source": [
        "### callback 함수\n",
        "- 모델저장\n",
        "  - 딥러닝 모델 학습시 모델을 저장하는 기능\n",
        "  - 지정된 epochs를 학습했을 시 과대적합이 되는 경우가 있다<br>  -> 중간의 일반화된 모델을 저장할 수 있는 기능<br>\n",
        "  \n",
        "- 조기학습중단\n",
        "  - epochs를 크게 설정한 경우 일정 횟수 이상으로 모델의 성능이 개선되지 않는 경우가 있음 -> 시간 낭비 -> 모델의 성능이 개선되지 않는 경우에는 조기학습중단"
      ],
      "metadata": {
        "id": "s8UUg7DcHYCB"
      }
    },
    {
      "cell_type": "code",
      "source": [
        "from tensorflow.keras.callbacks import ModelCheckpoint, EarlyStopping\n",
        "# ModelCheckpoint : 모델저장\n",
        "# EarlyStopping : 조기학습중단"
      ],
      "metadata": {
        "id": "ZLXz7QlGHX_1"
      },
      "execution_count": null,
      "outputs": []
    },
    {
      "cell_type": "code",
      "source": [
        "# 모델 저장 객체 생성\n",
        "# epoch : 현재 에포크 번호 epochs : 전체 에포크 번호\n",
        "# 02d : 두 자리 숫자로 에포크 번호 표시\n",
        "# 0.3f : 소수점 3자리까지 실수형태로\n",
        "model_path = '/content/drive/MyDrive/Colab Notebooks/24.09.02 DeepLearning/model/model_{epoch:02d}_{val_accuracy:0.3f}.hdf5.keras'\n",
        "mc =ModelCheckpoint(filepath = model_path, # 모델의 저장 주소\n",
        "                verbose = 1, # 로그 출력\n",
        "                save_best_only = True, # 모델 성능이 최고점을 경신할때마다 저장\n",
        "                monitor = 'val_accuracy') # 모델의 성능을 확인할 기준"
      ],
      "metadata": {
        "id": "-KjT-_ZvHX9P"
      },
      "execution_count": null,
      "outputs": []
    },
    {
      "cell_type": "code",
      "source": [
        "# 조기학습중단 객체 생성\n",
        "es = EarlyStopping(monitor = 'val_accuracy',\n",
        "                   verbose = 1, # 로그 출력\n",
        "                   patience = 10)  # 모델성능 개선을 기다리는 최대 횟수"
      ],
      "metadata": {
        "id": "gV8vfUi1HX67"
      },
      "execution_count": null,
      "outputs": []
    },
    {
      "cell_type": "code",
      "source": [
        "# 뼈대생성\n",
        "model = Sequential()\n",
        "# 입력층\n",
        "model.add(InputLayer(shape=(28,28))) # 2차원\n",
        "model.add(Flatten()) # 평평하게 만들어줌.\n",
        "\n",
        "# 중간층 설계\n",
        "# 32, 64, 128, 64, 32 -> 활성화함수 : relu\n",
        "model.add(Dense(units = 32, activation = 'relu'))\n",
        "model.add(Dense(units = 64, activation='relu'))\n",
        "model.add(Dense(units = 128, activation='relu'))\n",
        "model.add(Dense(units = 64, activation='relu'))\n",
        "model.add(Dense(units = 32, activation='relu'))\n",
        "\n",
        "# 출력층 설계 -> 다중분류 (units = 클래스의 개수)\n",
        "model.add(Dense(10, activation=\"softmax\"))"
      ],
      "metadata": {
        "id": "qlKjSSjEHX4h"
      },
      "execution_count": null,
      "outputs": []
    },
    {
      "cell_type": "code",
      "source": [
        "# 학습방법 및 평가방법 -> 최적화함수: adam\n",
        "model.compile(optimizer='adam', loss='sparse_categorical_crossentropy', metrics=['accuracy'])"
      ],
      "metadata": {
        "id": "lrMx0VP-HX17"
      },
      "execution_count": null,
      "outputs": []
    },
    {
      "cell_type": "code",
      "source": [
        "# 학습시 callback 함수를 사용한다.\n",
        "model.fit(X_train, y_train, epochs = 100, validation_split = 0.2,\n",
        "          callbacks = [mc,es])"
      ],
      "metadata": {
        "colab": {
          "base_uri": "https://localhost:8080/"
        },
        "id": "sc3em3vjHXpR",
        "outputId": "bac061ce-2820-44bc-cbc1-52a1ad290aa5"
      },
      "execution_count": null,
      "outputs": [
        {
          "output_type": "stream",
          "name": "stdout",
          "text": [
            "Epoch 1/100\n",
            "\u001b[1m1488/1500\u001b[0m \u001b[32m━━━━━━━━━━━━━━━━━━━\u001b[0m\u001b[37m━\u001b[0m \u001b[1m0s\u001b[0m 2ms/step - accuracy: 0.6800 - loss: 1.3157\n",
            "Epoch 1: val_accuracy improved from -inf to 0.90958, saving model to /content/drive/MyDrive/Colab Notebooks/24.09.02 DeepLearning/model/model_01_0.910.hdf5.keras\n",
            "\u001b[1m1500/1500\u001b[0m \u001b[32m━━━━━━━━━━━━━━━━━━━━\u001b[0m\u001b[37m\u001b[0m \u001b[1m7s\u001b[0m 3ms/step - accuracy: 0.6813 - loss: 1.3099 - val_accuracy: 0.9096 - val_loss: 0.3148\n",
            "Epoch 2/100\n",
            "\u001b[1m1496/1500\u001b[0m \u001b[32m━━━━━━━━━━━━━━━━━━━\u001b[0m\u001b[37m━\u001b[0m \u001b[1m0s\u001b[0m 4ms/step - accuracy: 0.9193 - loss: 0.2867\n",
            "Epoch 2: val_accuracy improved from 0.90958 to 0.93708, saving model to /content/drive/MyDrive/Colab Notebooks/24.09.02 DeepLearning/model/model_02_0.937.hdf5.keras\n",
            "\u001b[1m1500/1500\u001b[0m \u001b[32m━━━━━━━━━━━━━━━━━━━━\u001b[0m\u001b[37m\u001b[0m \u001b[1m6s\u001b[0m 4ms/step - accuracy: 0.9193 - loss: 0.2867 - val_accuracy: 0.9371 - val_loss: 0.2280\n",
            "Epoch 3/100\n",
            "\u001b[1m1487/1500\u001b[0m \u001b[32m━━━━━━━━━━━━━━━━━━━\u001b[0m\u001b[37m━\u001b[0m \u001b[1m0s\u001b[0m 2ms/step - accuracy: 0.9340 - loss: 0.2269\n",
            "Epoch 3: val_accuracy improved from 0.93708 to 0.93858, saving model to /content/drive/MyDrive/Colab Notebooks/24.09.02 DeepLearning/model/model_03_0.939.hdf5.keras\n",
            "\u001b[1m1500/1500\u001b[0m \u001b[32m━━━━━━━━━━━━━━━━━━━━\u001b[0m\u001b[37m\u001b[0m \u001b[1m4s\u001b[0m 3ms/step - accuracy: 0.9340 - loss: 0.2269 - val_accuracy: 0.9386 - val_loss: 0.2232\n",
            "Epoch 4/100\n",
            "\u001b[1m1482/1500\u001b[0m \u001b[32m━━━━━━━━━━━━━━━━━━━\u001b[0m\u001b[37m━\u001b[0m \u001b[1m0s\u001b[0m 2ms/step - accuracy: 0.9421 - loss: 0.2066\n",
            "Epoch 4: val_accuracy improved from 0.93858 to 0.94300, saving model to /content/drive/MyDrive/Colab Notebooks/24.09.02 DeepLearning/model/model_04_0.943.hdf5.keras\n",
            "\u001b[1m1500/1500\u001b[0m \u001b[32m━━━━━━━━━━━━━━━━━━━━\u001b[0m\u001b[37m\u001b[0m \u001b[1m5s\u001b[0m 3ms/step - accuracy: 0.9421 - loss: 0.2064 - val_accuracy: 0.9430 - val_loss: 0.2026\n",
            "Epoch 5/100\n",
            "\u001b[1m1493/1500\u001b[0m \u001b[32m━━━━━━━━━━━━━━━━━━━\u001b[0m\u001b[37m━\u001b[0m \u001b[1m0s\u001b[0m 4ms/step - accuracy: 0.9520 - loss: 0.1658\n",
            "Epoch 5: val_accuracy improved from 0.94300 to 0.94850, saving model to /content/drive/MyDrive/Colab Notebooks/24.09.02 DeepLearning/model/model_05_0.948.hdf5.keras\n",
            "\u001b[1m1500/1500\u001b[0m \u001b[32m━━━━━━━━━━━━━━━━━━━━\u001b[0m\u001b[37m\u001b[0m \u001b[1m8s\u001b[0m 5ms/step - accuracy: 0.9520 - loss: 0.1659 - val_accuracy: 0.9485 - val_loss: 0.1896\n",
            "Epoch 6/100\n",
            "\u001b[1m1483/1500\u001b[0m \u001b[32m━━━━━━━━━━━━━━━━━━━\u001b[0m\u001b[37m━\u001b[0m \u001b[1m0s\u001b[0m 2ms/step - accuracy: 0.9562 - loss: 0.1498\n",
            "Epoch 6: val_accuracy did not improve from 0.94850\n",
            "\u001b[1m1500/1500\u001b[0m \u001b[32m━━━━━━━━━━━━━━━━━━━━\u001b[0m\u001b[37m\u001b[0m \u001b[1m7s\u001b[0m 3ms/step - accuracy: 0.9562 - loss: 0.1499 - val_accuracy: 0.9482 - val_loss: 0.1951\n",
            "Epoch 7/100\n",
            "\u001b[1m1491/1500\u001b[0m \u001b[32m━━━━━━━━━━━━━━━━━━━\u001b[0m\u001b[37m━\u001b[0m \u001b[1m0s\u001b[0m 4ms/step - accuracy: 0.9610 - loss: 0.1400\n",
            "Epoch 7: val_accuracy improved from 0.94850 to 0.94858, saving model to /content/drive/MyDrive/Colab Notebooks/24.09.02 DeepLearning/model/model_07_0.949.hdf5.keras\n",
            "\u001b[1m1500/1500\u001b[0m \u001b[32m━━━━━━━━━━━━━━━━━━━━\u001b[0m\u001b[37m\u001b[0m \u001b[1m8s\u001b[0m 5ms/step - accuracy: 0.9610 - loss: 0.1400 - val_accuracy: 0.9486 - val_loss: 0.1834\n",
            "Epoch 8/100\n",
            "\u001b[1m1481/1500\u001b[0m \u001b[32m━━━━━━━━━━━━━━━━━━━\u001b[0m\u001b[37m━\u001b[0m \u001b[1m0s\u001b[0m 3ms/step - accuracy: 0.9662 - loss: 0.1232\n",
            "Epoch 8: val_accuracy improved from 0.94858 to 0.95692, saving model to /content/drive/MyDrive/Colab Notebooks/24.09.02 DeepLearning/model/model_08_0.957.hdf5.keras\n",
            "\u001b[1m1500/1500\u001b[0m \u001b[32m━━━━━━━━━━━━━━━━━━━━\u001b[0m\u001b[37m\u001b[0m \u001b[1m5s\u001b[0m 3ms/step - accuracy: 0.9661 - loss: 0.1233 - val_accuracy: 0.9569 - val_loss: 0.1751\n",
            "Epoch 9/100\n",
            "\u001b[1m1487/1500\u001b[0m \u001b[32m━━━━━━━━━━━━━━━━━━━\u001b[0m\u001b[37m━\u001b[0m \u001b[1m0s\u001b[0m 2ms/step - accuracy: 0.9678 - loss: 0.1164\n",
            "Epoch 9: val_accuracy did not improve from 0.95692\n",
            "\u001b[1m1500/1500\u001b[0m \u001b[32m━━━━━━━━━━━━━━━━━━━━\u001b[0m\u001b[37m\u001b[0m \u001b[1m5s\u001b[0m 3ms/step - accuracy: 0.9678 - loss: 0.1165 - val_accuracy: 0.9560 - val_loss: 0.1699\n",
            "Epoch 10/100\n",
            "\u001b[1m1496/1500\u001b[0m \u001b[32m━━━━━━━━━━━━━━━━━━━\u001b[0m\u001b[37m━\u001b[0m \u001b[1m0s\u001b[0m 4ms/step - accuracy: 0.9677 - loss: 0.1135\n",
            "Epoch 10: val_accuracy improved from 0.95692 to 0.95700, saving model to /content/drive/MyDrive/Colab Notebooks/24.09.02 DeepLearning/model/model_10_0.957.hdf5.keras\n",
            "\u001b[1m1500/1500\u001b[0m \u001b[32m━━━━━━━━━━━━━━━━━━━━\u001b[0m\u001b[37m\u001b[0m \u001b[1m6s\u001b[0m 4ms/step - accuracy: 0.9677 - loss: 0.1135 - val_accuracy: 0.9570 - val_loss: 0.1723\n",
            "Epoch 11/100\n",
            "\u001b[1m1499/1500\u001b[0m \u001b[32m━━━━━━━━━━━━━━━━━━━\u001b[0m\u001b[37m━\u001b[0m \u001b[1m0s\u001b[0m 2ms/step - accuracy: 0.9700 - loss: 0.1055\n",
            "Epoch 11: val_accuracy did not improve from 0.95700\n",
            "\u001b[1m1500/1500\u001b[0m \u001b[32m━━━━━━━━━━━━━━━━━━━━\u001b[0m\u001b[37m\u001b[0m \u001b[1m8s\u001b[0m 3ms/step - accuracy: 0.9700 - loss: 0.1055 - val_accuracy: 0.9545 - val_loss: 0.1658\n",
            "Epoch 12/100\n",
            "\u001b[1m1498/1500\u001b[0m \u001b[32m━━━━━━━━━━━━━━━━━━━\u001b[0m\u001b[37m━\u001b[0m \u001b[1m0s\u001b[0m 4ms/step - accuracy: 0.9724 - loss: 0.0955\n",
            "Epoch 12: val_accuracy improved from 0.95700 to 0.95950, saving model to /content/drive/MyDrive/Colab Notebooks/24.09.02 DeepLearning/model/model_12_0.960.hdf5.keras\n",
            "\u001b[1m1500/1500\u001b[0m \u001b[32m━━━━━━━━━━━━━━━━━━━━\u001b[0m\u001b[37m\u001b[0m \u001b[1m7s\u001b[0m 4ms/step - accuracy: 0.9724 - loss: 0.0956 - val_accuracy: 0.9595 - val_loss: 0.1579\n",
            "Epoch 13/100\n",
            "\u001b[1m1481/1500\u001b[0m \u001b[32m━━━━━━━━━━━━━━━━━━━\u001b[0m\u001b[37m━\u001b[0m \u001b[1m0s\u001b[0m 2ms/step - accuracy: 0.9736 - loss: 0.0933\n",
            "Epoch 13: val_accuracy did not improve from 0.95950\n",
            "\u001b[1m1500/1500\u001b[0m \u001b[32m━━━━━━━━━━━━━━━━━━━━\u001b[0m\u001b[37m\u001b[0m \u001b[1m4s\u001b[0m 3ms/step - accuracy: 0.9736 - loss: 0.0934 - val_accuracy: 0.9572 - val_loss: 0.1641\n",
            "Epoch 14/100\n",
            "\u001b[1m1498/1500\u001b[0m \u001b[32m━━━━━━━━━━━━━━━━━━━\u001b[0m\u001b[37m━\u001b[0m \u001b[1m0s\u001b[0m 2ms/step - accuracy: 0.9758 - loss: 0.0862\n",
            "Epoch 14: val_accuracy did not improve from 0.95950\n",
            "\u001b[1m1500/1500\u001b[0m \u001b[32m━━━━━━━━━━━━━━━━━━━━\u001b[0m\u001b[37m\u001b[0m \u001b[1m5s\u001b[0m 3ms/step - accuracy: 0.9758 - loss: 0.0863 - val_accuracy: 0.9571 - val_loss: 0.1695\n",
            "Epoch 15/100\n",
            "\u001b[1m1493/1500\u001b[0m \u001b[32m━━━━━━━━━━━━━━━━━━━\u001b[0m\u001b[37m━\u001b[0m \u001b[1m0s\u001b[0m 5ms/step - accuracy: 0.9771 - loss: 0.0812\n",
            "Epoch 15: val_accuracy did not improve from 0.95950\n",
            "\u001b[1m1500/1500\u001b[0m \u001b[32m━━━━━━━━━━━━━━━━━━━━\u001b[0m\u001b[37m\u001b[0m \u001b[1m9s\u001b[0m 6ms/step - accuracy: 0.9771 - loss: 0.0813 - val_accuracy: 0.9551 - val_loss: 0.1813\n",
            "Epoch 16/100\n",
            "\u001b[1m1489/1500\u001b[0m \u001b[32m━━━━━━━━━━━━━━━━━━━\u001b[0m\u001b[37m━\u001b[0m \u001b[1m0s\u001b[0m 5ms/step - accuracy: 0.9753 - loss: 0.0842\n",
            "Epoch 16: val_accuracy improved from 0.95950 to 0.96017, saving model to /content/drive/MyDrive/Colab Notebooks/24.09.02 DeepLearning/model/model_16_0.960.hdf5.keras\n",
            "\u001b[1m1500/1500\u001b[0m \u001b[32m━━━━━━━━━━━━━━━━━━━━\u001b[0m\u001b[37m\u001b[0m \u001b[1m10s\u001b[0m 6ms/step - accuracy: 0.9753 - loss: 0.0843 - val_accuracy: 0.9602 - val_loss: 0.1801\n",
            "Epoch 17/100\n",
            "\u001b[1m1494/1500\u001b[0m \u001b[32m━━━━━━━━━━━━━━━━━━━\u001b[0m\u001b[37m━\u001b[0m \u001b[1m0s\u001b[0m 3ms/step - accuracy: 0.9780 - loss: 0.0751\n",
            "Epoch 17: val_accuracy improved from 0.96017 to 0.96025, saving model to /content/drive/MyDrive/Colab Notebooks/24.09.02 DeepLearning/model/model_17_0.960.hdf5.keras\n",
            "\u001b[1m1500/1500\u001b[0m \u001b[32m━━━━━━━━━━━━━━━━━━━━\u001b[0m\u001b[37m\u001b[0m \u001b[1m5s\u001b[0m 3ms/step - accuracy: 0.9779 - loss: 0.0751 - val_accuracy: 0.9603 - val_loss: 0.1779\n",
            "Epoch 18/100\n",
            "\u001b[1m1477/1500\u001b[0m \u001b[32m━━━━━━━━━━━━━━━━━━━\u001b[0m\u001b[37m━\u001b[0m \u001b[1m0s\u001b[0m 2ms/step - accuracy: 0.9778 - loss: 0.0753\n",
            "Epoch 18: val_accuracy did not improve from 0.96025\n",
            "\u001b[1m1500/1500\u001b[0m \u001b[32m━━━━━━━━━━━━━━━━━━━━\u001b[0m\u001b[37m\u001b[0m \u001b[1m4s\u001b[0m 3ms/step - accuracy: 0.9778 - loss: 0.0753 - val_accuracy: 0.9584 - val_loss: 0.1773\n",
            "Epoch 19/100\n",
            "\u001b[1m1490/1500\u001b[0m \u001b[32m━━━━━━━━━━━━━━━━━━━\u001b[0m\u001b[37m━\u001b[0m \u001b[1m0s\u001b[0m 2ms/step - accuracy: 0.9814 - loss: 0.0660\n",
            "Epoch 19: val_accuracy did not improve from 0.96025\n",
            "\u001b[1m1500/1500\u001b[0m \u001b[32m━━━━━━━━━━━━━━━━━━━━\u001b[0m\u001b[37m\u001b[0m \u001b[1m5s\u001b[0m 3ms/step - accuracy: 0.9814 - loss: 0.0660 - val_accuracy: 0.9582 - val_loss: 0.1860\n",
            "Epoch 20/100\n",
            "\u001b[1m1499/1500\u001b[0m \u001b[32m━━━━━━━━━━━━━━━━━━━\u001b[0m\u001b[37m━\u001b[0m \u001b[1m0s\u001b[0m 3ms/step - accuracy: 0.9767 - loss: 0.0807\n",
            "Epoch 20: val_accuracy improved from 0.96025 to 0.96100, saving model to /content/drive/MyDrive/Colab Notebooks/24.09.02 DeepLearning/model/model_20_0.961.hdf5.keras\n",
            "\u001b[1m1500/1500\u001b[0m \u001b[32m━━━━━━━━━━━━━━━━━━━━\u001b[0m\u001b[37m\u001b[0m \u001b[1m5s\u001b[0m 3ms/step - accuracy: 0.9767 - loss: 0.0807 - val_accuracy: 0.9610 - val_loss: 0.1807\n",
            "Epoch 21/100\n",
            "\u001b[1m1500/1500\u001b[0m \u001b[32m━━━━━━━━━━━━━━━━━━━━\u001b[0m\u001b[37m\u001b[0m \u001b[1m0s\u001b[0m 2ms/step - accuracy: 0.9832 - loss: 0.0601\n",
            "Epoch 21: val_accuracy did not improve from 0.96100\n",
            "\u001b[1m1500/1500\u001b[0m \u001b[32m━━━━━━━━━━━━━━━━━━━━\u001b[0m\u001b[37m\u001b[0m \u001b[1m4s\u001b[0m 3ms/step - accuracy: 0.9832 - loss: 0.0601 - val_accuracy: 0.9585 - val_loss: 0.1997\n",
            "Epoch 22/100\n",
            "\u001b[1m1496/1500\u001b[0m \u001b[32m━━━━━━━━━━━━━━━━━━━\u001b[0m\u001b[37m━\u001b[0m \u001b[1m0s\u001b[0m 2ms/step - accuracy: 0.9802 - loss: 0.0678\n",
            "Epoch 22: val_accuracy did not improve from 0.96100\n",
            "\u001b[1m1500/1500\u001b[0m \u001b[32m━━━━━━━━━━━━━━━━━━━━\u001b[0m\u001b[37m\u001b[0m \u001b[1m5s\u001b[0m 3ms/step - accuracy: 0.9802 - loss: 0.0678 - val_accuracy: 0.9544 - val_loss: 0.1918\n",
            "Epoch 23/100\n",
            "\u001b[1m1500/1500\u001b[0m \u001b[32m━━━━━━━━━━━━━━━━━━━━\u001b[0m\u001b[37m\u001b[0m \u001b[1m0s\u001b[0m 4ms/step - accuracy: 0.9805 - loss: 0.0672\n",
            "Epoch 23: val_accuracy did not improve from 0.96100\n",
            "\u001b[1m1500/1500\u001b[0m \u001b[32m━━━━━━━━━━━━━━━━━━━━\u001b[0m\u001b[37m\u001b[0m \u001b[1m7s\u001b[0m 5ms/step - accuracy: 0.9805 - loss: 0.0672 - val_accuracy: 0.9590 - val_loss: 0.1983\n",
            "Epoch 24/100\n",
            "\u001b[1m1496/1500\u001b[0m \u001b[32m━━━━━━━━━━━━━━━━━━━\u001b[0m\u001b[37m━\u001b[0m \u001b[1m0s\u001b[0m 3ms/step - accuracy: 0.9832 - loss: 0.0578\n",
            "Epoch 24: val_accuracy improved from 0.96100 to 0.96208, saving model to /content/drive/MyDrive/Colab Notebooks/24.09.02 DeepLearning/model/model_24_0.962.hdf5.keras\n",
            "\u001b[1m1500/1500\u001b[0m \u001b[32m━━━━━━━━━━━━━━━━━━━━\u001b[0m\u001b[37m\u001b[0m \u001b[1m6s\u001b[0m 4ms/step - accuracy: 0.9832 - loss: 0.0579 - val_accuracy: 0.9621 - val_loss: 0.1810\n",
            "Epoch 25/100\n",
            "\u001b[1m1500/1500\u001b[0m \u001b[32m━━━━━━━━━━━━━━━━━━━━\u001b[0m\u001b[37m\u001b[0m \u001b[1m0s\u001b[0m 5ms/step - accuracy: 0.9827 - loss: 0.0628\n",
            "Epoch 25: val_accuracy did not improve from 0.96208\n",
            "\u001b[1m1500/1500\u001b[0m \u001b[32m━━━━━━━━━━━━━━━━━━━━\u001b[0m\u001b[37m\u001b[0m \u001b[1m8s\u001b[0m 5ms/step - accuracy: 0.9827 - loss: 0.0628 - val_accuracy: 0.9616 - val_loss: 0.1844\n",
            "Epoch 26/100\n",
            "\u001b[1m1490/1500\u001b[0m \u001b[32m━━━━━━━━━━━━━━━━━━━\u001b[0m\u001b[37m━\u001b[0m \u001b[1m0s\u001b[0m 2ms/step - accuracy: 0.9823 - loss: 0.0611\n",
            "Epoch 26: val_accuracy improved from 0.96208 to 0.96417, saving model to /content/drive/MyDrive/Colab Notebooks/24.09.02 DeepLearning/model/model_26_0.964.hdf5.keras\n",
            "\u001b[1m1500/1500\u001b[0m \u001b[32m━━━━━━━━━━━━━━━━━━━━\u001b[0m\u001b[37m\u001b[0m \u001b[1m6s\u001b[0m 3ms/step - accuracy: 0.9823 - loss: 0.0611 - val_accuracy: 0.9642 - val_loss: 0.2042\n",
            "Epoch 27/100\n",
            "\u001b[1m1500/1500\u001b[0m \u001b[32m━━━━━━━━━━━━━━━━━━━━\u001b[0m\u001b[37m\u001b[0m \u001b[1m0s\u001b[0m 3ms/step - accuracy: 0.9843 - loss: 0.0547\n",
            "Epoch 27: val_accuracy did not improve from 0.96417\n",
            "\u001b[1m1500/1500\u001b[0m \u001b[32m━━━━━━━━━━━━━━━━━━━━\u001b[0m\u001b[37m\u001b[0m \u001b[1m7s\u001b[0m 4ms/step - accuracy: 0.9843 - loss: 0.0547 - val_accuracy: 0.9610 - val_loss: 0.2291\n",
            "Epoch 28/100\n",
            "\u001b[1m1495/1500\u001b[0m \u001b[32m━━━━━━━━━━━━━━━━━━━\u001b[0m\u001b[37m━\u001b[0m \u001b[1m0s\u001b[0m 2ms/step - accuracy: 0.9843 - loss: 0.0534\n",
            "Epoch 28: val_accuracy did not improve from 0.96417\n",
            "\u001b[1m1500/1500\u001b[0m \u001b[32m━━━━━━━━━━━━━━━━━━━━\u001b[0m\u001b[37m\u001b[0m \u001b[1m4s\u001b[0m 3ms/step - accuracy: 0.9843 - loss: 0.0534 - val_accuracy: 0.9627 - val_loss: 0.2255\n",
            "Epoch 29/100\n",
            "\u001b[1m1488/1500\u001b[0m \u001b[32m━━━━━━━━━━━━━━━━━━━\u001b[0m\u001b[37m━\u001b[0m \u001b[1m0s\u001b[0m 2ms/step - accuracy: 0.9848 - loss: 0.0534\n",
            "Epoch 29: val_accuracy improved from 0.96417 to 0.96500, saving model to /content/drive/MyDrive/Colab Notebooks/24.09.02 DeepLearning/model/model_29_0.965.hdf5.keras\n",
            "\u001b[1m1500/1500\u001b[0m \u001b[32m━━━━━━━━━━━━━━━━━━━━\u001b[0m\u001b[37m\u001b[0m \u001b[1m5s\u001b[0m 3ms/step - accuracy: 0.9848 - loss: 0.0534 - val_accuracy: 0.9650 - val_loss: 0.2142\n",
            "Epoch 30/100\n",
            "\u001b[1m1498/1500\u001b[0m \u001b[32m━━━━━━━━━━━━━━━━━━━\u001b[0m\u001b[37m━\u001b[0m \u001b[1m0s\u001b[0m 4ms/step - accuracy: 0.9856 - loss: 0.0522\n",
            "Epoch 30: val_accuracy did not improve from 0.96500\n",
            "\u001b[1m1500/1500\u001b[0m \u001b[32m━━━━━━━━━━━━━━━━━━━━\u001b[0m\u001b[37m\u001b[0m \u001b[1m7s\u001b[0m 5ms/step - accuracy: 0.9856 - loss: 0.0522 - val_accuracy: 0.9603 - val_loss: 0.2273\n",
            "Epoch 31/100\n",
            "\u001b[1m1484/1500\u001b[0m \u001b[32m━━━━━━━━━━━━━━━━━━━\u001b[0m\u001b[37m━\u001b[0m \u001b[1m0s\u001b[0m 3ms/step - accuracy: 0.9858 - loss: 0.0492\n",
            "Epoch 31: val_accuracy improved from 0.96500 to 0.96575, saving model to /content/drive/MyDrive/Colab Notebooks/24.09.02 DeepLearning/model/model_31_0.966.hdf5.keras\n",
            "\u001b[1m1500/1500\u001b[0m \u001b[32m━━━━━━━━━━━━━━━━━━━━\u001b[0m\u001b[37m\u001b[0m \u001b[1m5s\u001b[0m 3ms/step - accuracy: 0.9858 - loss: 0.0492 - val_accuracy: 0.9657 - val_loss: 0.1871\n",
            "Epoch 32/100\n",
            "\u001b[1m1490/1500\u001b[0m \u001b[32m━━━━━━━━━━━━━━━━━━━\u001b[0m\u001b[37m━\u001b[0m \u001b[1m0s\u001b[0m 3ms/step - accuracy: 0.9863 - loss: 0.0462\n",
            "Epoch 32: val_accuracy did not improve from 0.96575\n",
            "\u001b[1m1500/1500\u001b[0m \u001b[32m━━━━━━━━━━━━━━━━━━━━\u001b[0m\u001b[37m\u001b[0m \u001b[1m10s\u001b[0m 4ms/step - accuracy: 0.9862 - loss: 0.0462 - val_accuracy: 0.9643 - val_loss: 0.2176\n",
            "Epoch 33/100\n",
            "\u001b[1m1488/1500\u001b[0m \u001b[32m━━━━━━━━━━━━━━━━━━━\u001b[0m\u001b[37m━\u001b[0m \u001b[1m0s\u001b[0m 2ms/step - accuracy: 0.9875 - loss: 0.0458\n",
            "Epoch 33: val_accuracy did not improve from 0.96575\n",
            "\u001b[1m1500/1500\u001b[0m \u001b[32m━━━━━━━━━━━━━━━━━━━━\u001b[0m\u001b[37m\u001b[0m \u001b[1m9s\u001b[0m 3ms/step - accuracy: 0.9875 - loss: 0.0459 - val_accuracy: 0.9603 - val_loss: 0.1909\n",
            "Epoch 34/100\n",
            "\u001b[1m1497/1500\u001b[0m \u001b[32m━━━━━━━━━━━━━━━━━━━\u001b[0m\u001b[37m━\u001b[0m \u001b[1m0s\u001b[0m 4ms/step - accuracy: 0.9861 - loss: 0.0462\n",
            "Epoch 34: val_accuracy did not improve from 0.96575\n",
            "\u001b[1m1500/1500\u001b[0m \u001b[32m━━━━━━━━━━━━━━━━━━━━\u001b[0m\u001b[37m\u001b[0m \u001b[1m8s\u001b[0m 4ms/step - accuracy: 0.9861 - loss: 0.0462 - val_accuracy: 0.9586 - val_loss: 0.2261\n",
            "Epoch 35/100\n",
            "\u001b[1m1489/1500\u001b[0m \u001b[32m━━━━━━━━━━━━━━━━━━━\u001b[0m\u001b[37m━\u001b[0m \u001b[1m0s\u001b[0m 3ms/step - accuracy: 0.9871 - loss: 0.0468\n",
            "Epoch 35: val_accuracy did not improve from 0.96575\n",
            "\u001b[1m1500/1500\u001b[0m \u001b[32m━━━━━━━━━━━━━━━━━━━━\u001b[0m\u001b[37m\u001b[0m \u001b[1m5s\u001b[0m 3ms/step - accuracy: 0.9871 - loss: 0.0468 - val_accuracy: 0.9647 - val_loss: 0.2331\n",
            "Epoch 36/100\n",
            "\u001b[1m1492/1500\u001b[0m \u001b[32m━━━━━━━━━━━━━━━━━━━\u001b[0m\u001b[37m━\u001b[0m \u001b[1m0s\u001b[0m 2ms/step - accuracy: 0.9886 - loss: 0.0422\n",
            "Epoch 36: val_accuracy did not improve from 0.96575\n",
            "\u001b[1m1500/1500\u001b[0m \u001b[32m━━━━━━━━━━━━━━━━━━━━\u001b[0m\u001b[37m\u001b[0m \u001b[1m4s\u001b[0m 3ms/step - accuracy: 0.9886 - loss: 0.0422 - val_accuracy: 0.9657 - val_loss: 0.1996\n",
            "Epoch 37/100\n",
            "\u001b[1m1491/1500\u001b[0m \u001b[32m━━━━━━━━━━━━━━━━━━━\u001b[0m\u001b[37m━\u001b[0m \u001b[1m0s\u001b[0m 3ms/step - accuracy: 0.9872 - loss: 0.0490\n",
            "Epoch 37: val_accuracy did not improve from 0.96575\n",
            "\u001b[1m1500/1500\u001b[0m \u001b[32m━━━━━━━━━━━━━━━━━━━━\u001b[0m\u001b[37m\u001b[0m \u001b[1m7s\u001b[0m 4ms/step - accuracy: 0.9872 - loss: 0.0490 - val_accuracy: 0.9649 - val_loss: 0.2180\n",
            "Epoch 38/100\n",
            "\u001b[1m1498/1500\u001b[0m \u001b[32m━━━━━━━━━━━━━━━━━━━\u001b[0m\u001b[37m━\u001b[0m \u001b[1m0s\u001b[0m 2ms/step - accuracy: 0.9885 - loss: 0.0411\n",
            "Epoch 38: val_accuracy did not improve from 0.96575\n",
            "\u001b[1m1500/1500\u001b[0m \u001b[32m━━━━━━━━━━━━━━━━━━━━\u001b[0m\u001b[37m\u001b[0m \u001b[1m4s\u001b[0m 3ms/step - accuracy: 0.9885 - loss: 0.0411 - val_accuracy: 0.9620 - val_loss: 0.2698\n",
            "Epoch 39/100\n",
            "\u001b[1m1487/1500\u001b[0m \u001b[32m━━━━━━━━━━━━━━━━━━━\u001b[0m\u001b[37m━\u001b[0m \u001b[1m0s\u001b[0m 2ms/step - accuracy: 0.9874 - loss: 0.0481\n",
            "Epoch 39: val_accuracy did not improve from 0.96575\n",
            "\u001b[1m1500/1500\u001b[0m \u001b[32m━━━━━━━━━━━━━━━━━━━━\u001b[0m\u001b[37m\u001b[0m \u001b[1m6s\u001b[0m 3ms/step - accuracy: 0.9874 - loss: 0.0481 - val_accuracy: 0.9555 - val_loss: 0.3277\n",
            "Epoch 40/100\n",
            "\u001b[1m1493/1500\u001b[0m \u001b[32m━━━━━━━━━━━━━━━━━━━\u001b[0m\u001b[37m━\u001b[0m \u001b[1m0s\u001b[0m 3ms/step - accuracy: 0.9877 - loss: 0.0441\n",
            "Epoch 40: val_accuracy did not improve from 0.96575\n",
            "\u001b[1m1500/1500\u001b[0m \u001b[32m━━━━━━━━━━━━━━━━━━━━\u001b[0m\u001b[37m\u001b[0m \u001b[1m5s\u001b[0m 3ms/step - accuracy: 0.9877 - loss: 0.0441 - val_accuracy: 0.9606 - val_loss: 0.2731\n",
            "Epoch 41/100\n",
            "\u001b[1m1486/1500\u001b[0m \u001b[32m━━━━━━━━━━━━━━━━━━━\u001b[0m\u001b[37m━\u001b[0m \u001b[1m0s\u001b[0m 2ms/step - accuracy: 0.9882 - loss: 0.0449\n",
            "Epoch 41: val_accuracy did not improve from 0.96575\n",
            "\u001b[1m1500/1500\u001b[0m \u001b[32m━━━━━━━━━━━━━━━━━━━━\u001b[0m\u001b[37m\u001b[0m \u001b[1m4s\u001b[0m 3ms/step - accuracy: 0.9882 - loss: 0.0450 - val_accuracy: 0.9582 - val_loss: 0.2376\n",
            "Epoch 41: early stopping\n"
          ]
        },
        {
          "output_type": "execute_result",
          "data": {
            "text/plain": [
              "<keras.src.callbacks.history.History at 0x7ef5b950c910>"
            ]
          },
          "metadata": {},
          "execution_count": 20
        }
      ]
    },
    {
      "cell_type": "markdown",
      "source": [
        "### 직접 작성한 손글씨 숫자 불러오기~\n"
      ],
      "metadata": {
        "id": "CeZKGqEZWLE9"
      }
    },
    {
      "cell_type": "code",
      "source": [
        "# 파이썬에서 이미지를 처리하는 라이브러리\n",
        "import PIL.Image as pimg\n",
        "import numpy as np\n",
        "import matplotlib.pyplot as plt"
      ],
      "metadata": {
        "id": "S0yU3qYCWLCx"
      },
      "execution_count": null,
      "outputs": []
    },
    {
      "cell_type": "code",
      "source": [
        "# 이미지 불러오기\n",
        "img = pimg.open(\"/content/drive/MyDrive/Colab Notebooks/24.09.02 DeepLearning/data/0.png\")\n",
        "# 학습했던 이미지의 형태로 나의 손글씨 변경\n",
        "# 컬러이미지를 흑백이미지로 변경 why? 흑백이미지로 학습했으니!\n",
        "img = img.convert(\"L\") # L : 흑백\n",
        "plt.imshow(img,cmap='gray')"
      ],
      "metadata": {
        "id": "lmtva7KYWLAt",
        "colab": {
          "base_uri": "https://localhost:8080/",
          "height": 448
        },
        "outputId": "c489e7bf-7fb6-455e-d135-c847b9c2d014"
      },
      "execution_count": null,
      "outputs": [
        {
          "output_type": "execute_result",
          "data": {
            "text/plain": [
              "<matplotlib.image.AxesImage at 0x7ef5aa5d7850>"
            ]
          },
          "metadata": {},
          "execution_count": 61
        },
        {
          "output_type": "display_data",
          "data": {
            "text/plain": [
              "<Figure size 640x480 with 1 Axes>"
            ],
            "image/png": "[encoded data removed]"
          },
          "metadata": {}
        }
      ]
    },
    {
      "cell_type": "code",
      "source": [
        "# 이미지 타입을 배열로 변환\n",
        "img_arr = np.array(img)\n",
        "img_arr.shape"
      ],
      "metadata": {
        "id": "0bJcmd9dWK-m",
        "colab": {
          "base_uri": "https://localhost:8080/"
        },
        "outputId": "0a7bbfbe-d616-46ef-c9b1-8666802225b9"
      },
      "execution_count": null,
      "outputs": [
        {
          "output_type": "execute_result",
          "data": {
            "text/plain": [
              "(28, 28)"
            ]
          },
          "metadata": {},
          "execution_count": 62
        }
      ]
    },
    {
      "cell_type": "code",
      "source": [
        "# 학습데이터에 적용했던 작업을 그대로 해줘야 함.\n",
        "# 2차원 -> 1차원으로 변경 Flatten()\n",
        "img_arr = img_arr.reshape(1,28,28) #(데이터의 개수, 가로, 세로)"
      ],
      "metadata": {
        "id": "HnVmyF4GWK8Y"
      },
      "execution_count": null,
      "outputs": []
    },
    {
      "cell_type": "code",
      "source": [
        "# 저장해 둔 best_model을 불러와서 예측\n",
        "from tensorflow.keras.models import load_model\n",
        "best_model = load_model(\"/content/drive/MyDrive/Colab Notebooks/24.09.02 DeepLearning/model/model_32_0.966.hdf5.keras\")"
      ],
      "metadata": {
        "id": "iUg36KXLOjdN"
      },
      "execution_count": null,
      "outputs": []
    },
    {
      "cell_type": "code",
      "source": [
        "# 예측\n",
        "best_model.predict(img_arr)\n",
        "# 결과값 : 0~9까지의 확률\n",
        "# 부동소수점으로 나온 경우(9.1111-01)\n",
        "# - 뒤의 숫자만큼 소수점을 앞으로 보내서 해석한다.\n",
        "# 가독성을 위해 출력된 숫자\n",
        "# e-뒤에 있는 숫자가 작을수록 큰 숫자~"
      ],
      "metadata": {
        "colab": {
          "base_uri": "https://localhost:8080/"
        },
        "id": "dJuiCYcMOjX6",
        "outputId": "ba7a7c00-0735-4d46-c49a-6f1a9f9e1ad6"
      },
      "execution_count": null,
      "outputs": [
        {
          "output_type": "stream",
          "name": "stderr",
          "text": [
            "WARNING:tensorflow:6 out of the last 12 calls to <function TensorFlowTrainer.make_predict_function.<locals>.one_step_on_data_distributed at 0x7ef5aa4b4af0> triggered tf.function retracing. Tracing is expensive and the excessive number of tracings could be due to (1) creating @tf.function repeatedly in a loop, (2) passing tensors with different shapes, (3) passing Python objects instead of tensors. For (1), please define your @tf.function outside of the loop. For (2), @tf.function has reduce_retracing=True option that can avoid unnecessary retracing. For (3), please refer to https://www.tensorflow.org/guide/function#controlling_retracing and https://www.tensorflow.org/api_docs/python/tf/function for  more details.\n"
          ]
        },
        {
          "output_type": "stream",
          "name": "stdout",
          "text": [
            "\u001b[1m1/1\u001b[0m \u001b[32m━━━━━━━━━━━━━━━━━━━━\u001b[0m\u001b[37m\u001b[0m \u001b[1m0s\u001b[0m 93ms/step\n"
          ]
        },
        {
          "output_type": "execute_result",
          "data": {
            "text/plain": [
              "array([[1.00000000e+00, 0.00000000e+00, 9.63156421e-14, 2.26616695e-20,\n",
              "        6.78493120e-21, 1.22967255e-17, 4.64552509e-14, 5.41141898e-29,\n",
              "        9.82179477e-21, 3.68620810e-14]], dtype=float32)"
            ]
          },
          "metadata": {},
          "execution_count": 65
        }
      ]
    },
    {
      "cell_type": "code",
      "source": [
        "# 예측한 값 클래스값만 보고싶다면?\n",
        "best_model.predict(img_arr).argmax()"
      ],
      "metadata": {
        "colab": {
          "base_uri": "https://localhost:8080/"
        },
        "id": "uoYbRcr8OjVN",
        "outputId": "d7ab224b-8e07-47c9-df64-bea76f253a85"
      },
      "execution_count": null,
      "outputs": [
        {
          "output_type": "stream",
          "name": "stdout",
          "text": [
            "\u001b[1m1/1\u001b[0m \u001b[32m━━━━━━━━━━━━━━━━━━━━\u001b[0m\u001b[37m\u001b[0m \u001b[1m0s\u001b[0m 19ms/step\n"
          ]
        },
        {
          "output_type": "execute_result",
          "data": {
            "text/plain": [
              "0"
            ]
          },
          "metadata": {},
          "execution_count": 66
        }
      ]
    },
    {
      "cell_type": "code",
      "source": [],
      "metadata": {
        "id": "VdL-Co5yW4iI"
      },
      "execution_count": null,
      "outputs": []
    },
    {
      "cell_type": "code",
      "source": [],
      "metadata": {
        "id": "2YMH8PJ1W4fd"
      },
      "execution_count": null,
      "outputs": []
    },
    {
      "cell_type": "code",
      "source": [],
      "metadata": {
        "id": "789KXmtPW4c2"
      },
      "execution_count": null,
      "outputs": []
    },
    {
      "cell_type": "code",
      "source": [],
      "metadata": {
        "id": "rr9lqe3-W4aE"
      },
      "execution_count": null,
      "outputs": []
    },
    {
      "cell_type": "code",
      "source": [],
      "metadata": {
        "id": "UuyemfR3W4XO"
      },
      "execution_count": null,
      "outputs": []
    }
  ]
}