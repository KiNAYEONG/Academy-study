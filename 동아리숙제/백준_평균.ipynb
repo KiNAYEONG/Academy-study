{
 "cells": [
  {
   "cell_type": "markdown",
   "id": "14cbdfdb-851f-4d31-9658-27e7ee462093",
   "metadata": {},
   "source": [
    "https://www.acmicpc.net/problem/1546"
   ]
  },
  {
   "cell_type": "code",
   "execution_count": null,
   "id": "e367c7d4-24e3-4d3a-b0e4-f0c89a2d7d39",
   "metadata": {},
   "outputs": [],
   "source": [
    "pre = int(input())\n",
    "score = list(map(int, input().split()))\n",
    "score.sort()\n",
    "new_score = []    \n",
    "max_score = score[-1]\n",
    "\n",
    "for i in score:\n",
    "  i = (i/max_score)*100\n",
    "  new_score.append(i)\n",
    "avg = sum(new_score)/len(new_score)\n",
    "print(avg)"
   ]
  }
 ],
 "metadata": {
  "kernelspec": {
   "display_name": "Python 3 (ipykernel)",
   "language": "python",
   "name": "python3"
  },
  "language_info": {
   "codemirror_mode": {
    "name": "ipython",
    "version": 3
   },
   "file_extension": ".py",
   "mimetype": "text/x-python",
   "name": "python",
   "nbconvert_exporter": "python",
   "pygments_lexer": "ipython3",
   "version": "3.11.7"
  }
 },
 "nbformat": 4,
 "nbformat_minor": 5
}
