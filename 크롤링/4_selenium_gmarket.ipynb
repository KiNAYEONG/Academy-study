{
 "cells": [
  {
   "cell_type": "code",
   "execution_count": 15,
   "id": "d0a08c74-1b77-4a40-b23b-da4347b811ec",
   "metadata": {},
   "outputs": [],
   "source": [
    "from selenium.webdriver.chrome.service import Service\n",
    "from webdriver_manager.chrome import ChromeDriverManager\n",
    "from selenium.webdriver.chrome.options import Options\n",
    "\n",
    "from selenium import webdriver as wb\n",
    "from selenium.webdriver.common.keys import Keys\n",
    "from selenium.webdriver.common.by import By\n",
    "\n",
    "import pandas as pd"
   ]
  },
  {
   "cell_type": "code",
   "execution_count": 16,
   "id": "dd55ff01-bcd8-4216-ad5e-86ccf202f9d0",
   "metadata": {},
   "outputs": [],
   "source": [
    "# 브라우저 열기!\n",
    "options = Options()\n",
    "options.add_argument(\"disable-blink-features=AutomationControlled\")  # 자동화 탐지 방지\n",
    "options.add_experimental_option(\"excludeSwitches\", [\"enable-automation\"])  # 자동화 표시 제거\n",
    "options.add_experimental_option('useAutomationExtension', False)  # 자동화 확장 기능 사용 안 함"
   ]
  },
  {
   "cell_type": "code",
   "execution_count": 17,
   "id": "96803ad2-c2dd-40ed-a6fe-e63d17129fd4",
   "metadata": {},
   "outputs": [],
   "source": [
    "s = Service(ChromeDriverManager().install())\n",
    "driver = wb.Chrome(service=s, options=options)"
   ]
  },
  {
   "cell_type": "code",
   "execution_count": 18,
   "id": "e2fa7607-2a43-4ac5-acc7-61ba89cc3b3f",
   "metadata": {},
   "outputs": [],
   "source": [
    "#URL 접속\n",
    "driver.get(\"https://www.gmarket.co.kr/n/best\")"
   ]
  },
  {
   "cell_type": "code",
   "execution_count": 19,
   "id": "09cee426-6b90-4b05-ba28-7c13468f1e95",
   "metadata": {},
   "outputs": [],
   "source": [
    "a_href = driver.find_elements(By.CSS_SELECTOR, \"ul.list__best > li > a\")"
   ]
  },
  {
   "cell_type": "code",
   "execution_count": 20,
   "id": "f7f3c526-8419-4090-a8e7-9373d68db277",
   "metadata": {},
   "outputs": [],
   "source": [
    "a_href[0].click()"
   ]
  },
  {
   "cell_type": "code",
   "execution_count": 22,
   "id": "33a4dfa3-1b3d-4eed-a7b9-66f410826959",
   "metadata": {},
   "outputs": [
    {
     "name": "stdout",
     "output_type": "stream",
     "text": [
      "전복\n"
     ]
    }
   ],
   "source": [
    "# 카테고리 수집 .text를 붙여야 우리가 알아먹을 수 있음.\n",
    "category = driver.find_element(By.CSS_SELECTOR, \"ul > li.on > a\").text\n",
    "print(category)"
   ]
  },
  {
   "cell_type": "code",
   "execution_count": 26,
   "id": "e89db868-7010-430c-9a6f-228ee3ed876d",
   "metadata": {},
   "outputs": [
    {
     "name": "stdout",
     "output_type": "stream",
     "text": [
      "바다마을 특대활전복 9-11미 1kg (아이스박스 포장) 26,900원\n"
     ]
    }
   ],
   "source": [
    "# 제목\n",
    "title = driver.find_element(By.CLASS_NAME, \"itemtit\").text\n",
    "\n",
    "# 가격\n",
    "price = driver.find_element(By.CLASS_NAME, \"price_real\").text\n",
    "\n",
    "print(title, price)"
   ]
  },
  {
   "cell_type": "code",
   "execution_count": null,
   "id": "8160acae-b306-4249-baaa-7be16d508875",
   "metadata": {},
   "outputs": [],
   "source": [
    "# category, title, price\n",
    "# Best product -> 200건에 대해서 수집 가능"
   ]
  },
  {
   "cell_type": "markdown",
   "id": "c3baf218-0b06-4aa0-9110-c5d968d7940b",
   "metadata": {},
   "source": [
    "### PROJECT :G-Market Best 상품 수집기\n",
    "- Best 상품 200건에 대해서 [카테고리, 상품명, 상품가격] 수집"
   ]
  },
  {
   "cell_type": "code",
   "execution_count": 32,
   "id": "c6772167-2447-49af-b364-8d3c588ed65a",
   "metadata": {},
   "outputs": [
    {
     "ename": "IndexError",
     "evalue": "list index out of range",
     "output_type": "error",
     "traceback": [
      "\u001b[1;31m---------------------------------------------------------------------------\u001b[0m",
      "\u001b[1;31mIndexError\u001b[0m                                Traceback (most recent call last)",
      "Cell \u001b[1;32mIn[32], line 24\u001b[0m\n\u001b[0;32m     22\u001b[0m \u001b[38;5;28;01mfor\u001b[39;00m i \u001b[38;5;129;01min\u001b[39;00m \u001b[38;5;28mrange\u001b[39m(\u001b[38;5;28mlen\u001b[39m(a_href)):\n\u001b[0;32m     23\u001b[0m     a_href \u001b[38;5;241m=\u001b[39m driver\u001b[38;5;241m.\u001b[39mfind_elements(By\u001b[38;5;241m.\u001b[39mCSS_SELECTOR, \u001b[38;5;124m\"\u001b[39m\u001b[38;5;124mul.list__best > li > a\u001b[39m\u001b[38;5;124m\"\u001b[39m)\n\u001b[1;32m---> 24\u001b[0m     a_href[i]\u001b[38;5;241m.\u001b[39mclick()\n\u001b[0;32m     26\u001b[0m     \u001b[38;5;66;03m# 카테고리 수집 .text를 붙여야 우리가 알아먹을 수 있음.\u001b[39;00m\n\u001b[0;32m     27\u001b[0m     category \u001b[38;5;241m=\u001b[39m driver\u001b[38;5;241m.\u001b[39mfind_element(By\u001b[38;5;241m.\u001b[39mCSS_SELECTOR, \u001b[38;5;124m\"\u001b[39m\u001b[38;5;124mul > li.on > a\u001b[39m\u001b[38;5;124m\"\u001b[39m)\u001b[38;5;241m.\u001b[39mtext \n",
      "\u001b[1;31mIndexError\u001b[0m: list index out of range"
     ]
    }
   ],
   "source": [
    "options = Options()\n",
    "options.add_argument(\"disable-blink-features=AutomationControlled\")  # 자동화 탐지 방지\n",
    "options.add_experimental_option(\"excludeSwitches\", [\"enable-automation\"])  # 자동화 표시 제거\n",
    "options.add_experimental_option('useAutomationExtension', False)  # 자동화 확장 기능 사용 안 함\n",
    "\n",
    "# 1. Selenium 웹 브라우저 켜기\n",
    "s = Service(ChromeDriverManager().install())\n",
    "driver = wb.Chrome(service=s, options=options)\n",
    "\n",
    "# 2.URL 접속\n",
    "driver.get(\"https://www.gmarket.co.kr/n/best\")\n",
    "\n",
    "# 3.베스트 상품(200건) url 추출\n",
    "a_href = driver.find_elements(By.CSS_SELECTOR, \"ul.list__best > li > a\")\n",
    "\n",
    "category_list=[]\n",
    "title_list = []\n",
    "price_list = []\n",
    "# 4.베스트 상품(단건) 접속해서 데이터 수집\n",
    "# range(시작 : 끝 : 인터벌)\n",
    "# range(200) -> 0 ~ 199, 1씩 증가\n",
    "for i in range(len(a_href)):\n",
    "    a_href = driver.find_elements(By.CSS_SELECTOR, \"ul.list__best > li > a\")\n",
    "    a_href[i].click()\n",
    "\n",
    "    # 카테고리 수집 .text를 붙여야 우리가 알아먹을 수 있음.\n",
    "    category = driver.find_element(By.CSS_SELECTOR, \"ul > li.on > a\").text \n",
    "    category_list.append(category)\n",
    "    # 상품명 수집\n",
    "    title = driver.find_element(By.CLASS_NAME, \"itemtit\").text\n",
    "    title_list.append(category)\n",
    "    # 상품가격 수집\n",
    "    price = driver.find_element(By.CLASS_NAME, \"price_real\").text\n",
    "    price_list.append(category)\n",
    "    \n",
    "    driver.back()\n",
    "\n",
    "print(category_list, title_list, price_list)"
   ]
  },
  {
   "cell_type": "code",
   "execution_count": null,
   "id": "34a3e19b-363d-4393-8a0e-fc98ee99b454",
   "metadata": {},
   "outputs": [],
   "source": [
    "dict = {\n",
    "    \"카테고리\" : category_list,\n",
    "    \"상품명\" : title_list,\n",
    "    \"상품가격\" : price_list\n",
    "}\n",
    "\n",
    "gmarket = pd.DataFrame(dict)\n",
    "gmarket.to_csv(\"gmarket_best_200.csv\", encoding=\"UTF-8\")"
   ]
  },
  {
   "cell_type": "code",
   "execution_count": null,
   "id": "ad547500-49ed-4cd6-94cf-dbc583d017eb",
   "metadata": {},
   "outputs": [],
   "source": []
  },
  {
   "cell_type": "code",
   "execution_count": null,
   "id": "2557e64b-f902-444d-91a8-da6fc29b24dc",
   "metadata": {},
   "outputs": [],
   "source": []
  },
  {
   "cell_type": "code",
   "execution_count": null,
   "id": "b8b19ade-c17e-4b1c-ac64-54984639d3fa",
   "metadata": {},
   "outputs": [],
   "source": []
  },
  {
   "cell_type": "code",
   "execution_count": null,
   "id": "5f31dddd-a255-40dc-aba9-f0f7de8810be",
   "metadata": {},
   "outputs": [],
   "source": []
  },
  {
   "cell_type": "code",
   "execution_count": null,
   "id": "efe6e6ed-656f-4765-a2ac-10fa5e4b04d9",
   "metadata": {},
   "outputs": [],
   "source": []
  },
  {
   "cell_type": "code",
   "execution_count": null,
   "id": "8b4c74d2-85ac-4361-a133-ffc6520f23ba",
   "metadata": {},
   "outputs": [],
   "source": []
  }
 ],
 "metadata": {
  "kernelspec": {
   "display_name": "Python 3 (ipykernel)",
   "language": "python",
   "name": "python3"
  },
  "language_info": {
   "codemirror_mode": {
    "name": "ipython",
    "version": 3
   },
   "file_extension": ".py",
   "mimetype": "text/x-python",
   "name": "python",
   "nbconvert_exporter": "python",
   "pygments_lexer": "ipython3",
   "version": "3.11.7"
  }
 },
 "nbformat": 4,
 "nbformat_minor": 5
}
