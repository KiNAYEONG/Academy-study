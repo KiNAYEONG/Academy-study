{
 "cells": [
  {
   "cell_type": "markdown",
   "id": "80660082-14d2-4a2d-9829-6779213f467b",
   "metadata": {},
   "source": [
    "### 프로젝트 :포켓몬 이미지를 수집\n",
    "- 포켓몬 공식 사이트에서 제공하는 포켓몬 도감의 이미지를 저장"
   ]
  },
  {
   "cell_type": "code",
   "execution_count": 1,
   "id": "d862ad9d-8759-44d6-ac93-b63904925c13",
   "metadata": {},
   "outputs": [],
   "source": [
    "import os"
   ]
  },
  {
   "cell_type": "code",
   "execution_count": 2,
   "id": "56762a83-a97a-4268-b1fa-3829df49f230",
   "metadata": {},
   "outputs": [],
   "source": [
    "# 폴더 생성\n",
    "#  - 기존에 중복 폴더가 존재하면 ERROR\n",
    "path = \"pokemon\" # 폴더 경로\n",
    "if not os.path.isdir(path):\n",
    "    os.mkdir(\"pokemon\")"
   ]
  },
  {
   "cell_type": "code",
   "execution_count": 3,
   "id": "58209923-318d-4a8c-bd4e-3d6bd5274486",
   "metadata": {},
   "outputs": [],
   "source": [
    "from selenium.webdriver.chrome.service import Service\n",
    "from webdriver_manager.chrome import ChromeDriverManager\n",
    "from selenium.webdriver.chrome.options import Options\n",
    "\n",
    "from selenium import webdriver as wb\n",
    "from selenium.webdriver.common.keys import Keys\n",
    "from selenium.webdriver.common.by import By\n",
    "\n",
    "import pandas as pd\n",
    "import time\n",
    "from tqdm import tqdm as tq\n",
    "from bs4 import BeautifulSoup as bs"
   ]
  },
  {
   "cell_type": "code",
   "execution_count": 4,
   "id": "64d4480f-399a-4ac8-a10d-118fa9b47481",
   "metadata": {},
   "outputs": [],
   "source": [
    "options = Options()\n",
    "options.add_argument(\"disable-blink-features=AutomationControlled\")  # 자동화 탐지 방지\n",
    "options.add_experimental_option(\"excludeSwitches\", [\"enable-automation\"])  # 자동화 표시 제거\n",
    "options.add_experimental_option('useAutomationExtension', False)  # 자동화 확장 기능 사용 안 함\n",
    "\n",
    "s = Service(ChromeDriverManager().install())\n",
    "driver = wb.Chrome(service=s, options=options)"
   ]
  },
  {
   "cell_type": "code",
   "execution_count": 5,
   "id": "85df4c12-52e3-47b9-9eec-049960412d40",
   "metadata": {},
   "outputs": [],
   "source": [
    "driver.get(\"https://pokemonkorea.co.kr/pokedex\")"
   ]
  },
  {
   "cell_type": "markdown",
   "id": "55bb3d9a-eaef-433a-bd27-4ec09067a1fe",
   "metadata": {},
   "source": [
    "##### 정적 크롤링\n",
    "- requests.text, driver.page_source -> 정적(문자열 -> 파싱 필요(BeautifulSoup))\n",
    "##### 동적 크롤링\n",
    "- driver.find_elements() -> 현재 보고 있는 웹 페이지가 변경되면, 요소 지정도 변경 해야함!"
   ]
  },
  {
   "cell_type": "code",
   "execution_count": 7,
   "id": "dd924310-7459-480a-bc79-bbc7de2e64d8",
   "metadata": {},
   "outputs": [],
   "source": [
    "# 현재 selenium 웹 브라우저가 접속하고 있는 페이지의 전체 HTML 소스를 가져와서\n",
    "# BeautifulSoup을 사용해서 -> parsing\n",
    "soup = bs(driver.page_source, \"lxml\")"
   ]
  },
  {
   "cell_type": "code",
   "execution_count": 8,
   "id": "93f5d466-d16e-4591-851d-c2d34f5b4c20",
   "metadata": {},
   "outputs": [
    {
     "name": "stdout",
     "output_type": "stream",
     "text": [
      "18\n"
     ]
    }
   ],
   "source": [
    "img = soup.select(\"img.img-fluid\")\n",
    "print(len(img))"
   ]
  },
  {
   "cell_type": "code",
   "execution_count": 10,
   "id": "2830874f-3153-4764-a0c8-062dadf6f97d",
   "metadata": {},
   "outputs": [
    {
     "name": "stdout",
     "output_type": "stream",
     "text": [
      "https://data1.pokemonkorea.co.kr/newdata/pokedex/mid/000101.png\n",
      "https://data1.pokemonkorea.co.kr/newdata/pokedex/mid/000201.png\n",
      "https://data1.pokemonkorea.co.kr/newdata/pokedex/mid/000301.png\n",
      "https://data1.pokemonkorea.co.kr/newdata/pokedex/mid/000302.png\n",
      "https://data1.pokemonkorea.co.kr/newdata/pokedex/mid/000303.png\n",
      "https://data1.pokemonkorea.co.kr/newdata/pokedex/mid/000401.png\n",
      "https://data1.pokemonkorea.co.kr/newdata/pokedex/mid/000501.png\n",
      "https://data1.pokemonkorea.co.kr/newdata/pokedex/mid/000601.png\n",
      "https://data1.pokemonkorea.co.kr/newdata/pokedex/mid/000602.png\n",
      "https://data1.pokemonkorea.co.kr/newdata/pokedex/mid/000603.png\n",
      "https://data1.pokemonkorea.co.kr/newdata/pokedex/mid/000604.png\n",
      "https://data1.pokemonkorea.co.kr/newdata/pokedex/mid/000701.png\n",
      "https://data1.pokemonkorea.co.kr/newdata/pokedex/mid/000801.png\n",
      "https://data1.pokemonkorea.co.kr/newdata/pokedex/mid/000901.png\n",
      "https://data1.pokemonkorea.co.kr/newdata/pokedex/mid/000902.png\n",
      "https://data1.pokemonkorea.co.kr/newdata/pokedex/mid/000903.png\n",
      "https://data1.pokemonkorea.co.kr/newdata/pokedex/mid/001001.png\n",
      "https://data1.pokemonkorea.co.kr/newdata/pokedex/mid/001101.png\n"
     ]
    }
   ],
   "source": [
    "# 포켓몬 18마리 이미지 저장 -> pokemon\n",
    "# 이미지 이름은 pokemon_1.jpg\n",
    "for pokemon in img:\n",
    "    print(pokemon[\"src\"]) # 경로만 뽑아내기"
   ]
  },
  {
   "cell_type": "code",
   "execution_count": 12,
   "id": "8024c1aa-b021-4a1e-b717-823adb2017ba",
   "metadata": {},
   "outputs": [
    {
     "data": {
      "text/plain": [
       "('pokemon/pokemon_1.jpg', <http.client.HTTPMessage at 0x1be1ba2b590>)"
      ]
     },
     "execution_count": 12,
     "metadata": {},
     "output_type": "execute_result"
    }
   ],
   "source": [
    "# URL 내용을 파일로 다운로드 가능!\n",
    "from urllib.request import urlretrieve\n",
    "\n",
    "# urlretrieve(이미지 URL, 저장할 경로)\n",
    "urlretrieve(img[0][\"src\"],\"pokemon/pokemon_1.jpg\")"
   ]
  },
  {
   "cell_type": "code",
   "execution_count": 14,
   "id": "a8f40c6d-21a5-4bc6-b895-168029c6399b",
   "metadata": {},
   "outputs": [],
   "source": [
    "# 포켓몬 18 마리 이미지 저장 -> pokemon\n",
    "# 이미지 이름은 pokemon_1.jpg\n",
    "for i, pokemon in enumerate(img):\n",
    "    # 이미지 저장\n",
    "    urlretrieve(img[0][\"src\"],f\"pokemon/pokemon_{i+1}.jpg\")"
   ]
  },
  {
   "cell_type": "markdown",
   "id": "21ad860c-6190-44a6-9322-dd535fd595f2",
   "metadata": {},
   "source": [
    "#### Selenium 스크롤 제어!\n",
    "- 마우스 스크롤 제어 존재하지 않음!\n",
    "- 키보드 입력으로 스크롤 내리기 가능!"
   ]
  },
  {
   "cell_type": "code",
   "execution_count": 15,
   "id": "1a5e201e-13ef-4022-a808-9feba8da10d1",
   "metadata": {},
   "outputs": [],
   "source": [
    "body = driver.find_element(By.TAG_NAME, \"body\") # bodytag는 문서에 하나니깐 element로 가져옴.\n",
    "\n",
    "# 화면 최대화\n",
    "driver.maximize_window()\n"
   ]
  },
  {
   "cell_type": "code",
   "execution_count": 25,
   "id": "b0854e98-e38d-41b6-84e0-114acec936ae",
   "metadata": {},
   "outputs": [],
   "source": [
    "body.send_keys(Keys.END)"
   ]
  },
  {
   "cell_type": "code",
   "execution_count": 26,
   "id": "8ffc3cd8-b8ef-40ff-9768-7fd658977b87",
   "metadata": {},
   "outputs": [
    {
     "data": {
      "text/plain": [
       "13911"
      ]
     },
     "execution_count": 26,
     "metadata": {},
     "output_type": "execute_result"
    }
   ],
   "source": [
    "driver.execute_script(\"return document.body.scrollHeight\")"
   ]
  },
  {
   "cell_type": "code",
   "execution_count": null,
   "id": "1e0db250-f79b-4fcc-a7ac-013f9a0b0e32",
   "metadata": {},
   "outputs": [],
   "source": []
  },
  {
   "cell_type": "code",
   "execution_count": null,
   "id": "a85f4795-c791-4547-a8f0-bdc7fef768e2",
   "metadata": {},
   "outputs": [],
   "source": []
  }
 ],
 "metadata": {
  "kernelspec": {
   "display_name": "Python 3 (ipykernel)",
   "language": "python",
   "name": "python3"
  },
  "language_info": {
   "codemirror_mode": {
    "name": "ipython",
    "version": 3
   },
   "file_extension": ".py",
   "mimetype": "text/x-python",
   "name": "python",
   "nbconvert_exporter": "python",
   "pygments_lexer": "ipython3",
   "version": "3.11.7"
  }
 },
 "nbformat": 4,
 "nbformat_minor": 5
}
