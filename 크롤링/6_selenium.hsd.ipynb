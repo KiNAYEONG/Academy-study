{
 "cells": [
  {
   "cell_type": "code",
   "execution_count": 5,
   "id": "c1318324-82a8-4900-9588-8f425df65226",
   "metadata": {},
   "outputs": [],
   "source": [
    "from selenium.webdriver.chrome.service import Service\n",
    "from webdriver_manager.chrome import ChromeDriverManager\n",
    "from selenium.webdriver.chrome.options import Options\n",
    "\n",
    "from selenium import webdriver as wb\n",
    "from selenium.webdriver.common.keys import Keys\n",
    "from selenium.webdriver.common.by import By\n",
    "\n",
    "import pandas as pd\n",
    "import time\n",
    "from tqdm import tqdm as tq\n",
    "from bs4 import BeautifulSoup as bs\n",
    "import os\n",
    "\n",
    "options = Options()\n",
    "options.add_argument(\"disable-blink-features=AutomationControlled\")  # 자동화 탐지 방지\n",
    "options.add_experimental_option(\"excludeSwitches\", [\"enable-automation\"])  # 자동화 표시 제거\n",
    "options.add_experimental_option('useAutomationExtension', False)  # 자동화 확장 기능 사용 안 함\n"
   ]
  },
  {
   "cell_type": "code",
   "execution_count": 6,
   "id": "3353d27e-9518-4319-96d9-f19cc9c691da",
   "metadata": {},
   "outputs": [],
   "source": [
    "s = Service(ChromeDriverManager().install()) #\"127.0.6533.119\" 명시하면 강제로 다운 가능\n",
    "driver = wb.Chrome(service = s, options=options)"
   ]
  },
  {
   "cell_type": "code",
   "execution_count": 8,
   "id": "84bc5566-7600-44cc-af44-ab4166ed5163",
   "metadata": {},
   "outputs": [],
   "source": [
    "driver.get(\"https://www.hsd.co.kr/menu/menu_list\")"
   ]
  },
  {
   "cell_type": "code",
   "execution_count": 10,
   "id": "18902d21-b535-4863-8225-598eaf87734e",
   "metadata": {},
   "outputs": [],
   "source": [
    "# 더보기 버튼 클릭\n",
    "btn = driver.find_element(By.CSS_SELECTOR, \"a.c_05\")\n",
    "btn.click()"
   ]
  },
  {
   "cell_type": "code",
   "execution_count": 13,
   "id": "822a8bc0-12ec-4604-9b8e-482954eb8b0b",
   "metadata": {},
   "outputs": [
    {
     "name": "stdout",
     "output_type": "stream",
     "text": [
      "더보기 클릭 완료\n"
     ]
    }
   ],
   "source": [
    "while True:\n",
    "    try:\n",
    "        btn = driver.find_element(By.CSS_SELECTOR, \"a.c_05\")\n",
    "        btn.click()\n",
    "        print(\"더보기 클릭\")\n",
    "        time.sleep(1)\n",
    "    except:\n",
    "        print(\"더보기 클릭 완료\")\n",
    "        break"
   ]
  },
  {
   "cell_type": "markdown",
   "id": "acf2b91f-a2ce-4bb1-9af8-e15e66ddd9c0",
   "metadata": {},
   "source": [
    "db, file 반드시 예외처리해야함\n",
    "try\n",
    "except\n",
    "finally 에서 자원 반납하기\n",
    "3개는 세트다."
   ]
  },
  {
   "cell_type": "markdown",
   "id": "0575229d-c7e7-4a40-b3c9-89854f60e350",
   "metadata": {},
   "source": [
    "### 프로젝트 : 한솥도시락 메뉴 수집(메뉴이름, 가격)"
   ]
  },
  {
   "cell_type": "code",
   "execution_count": 20,
   "id": "08af2571-3731-4032-ae16-680b3b86809f",
   "metadata": {},
   "outputs": [
    {
     "name": "stdout",
     "output_type": "stream",
     "text": [
      "더보기 클릭\n",
      "더보기 클릭\n",
      "더보기 클릭\n",
      "더보기 클릭\n",
      "더보기 클릭 완료\n"
     ]
    }
   ],
   "source": [
    "# 1. 웹 브라우저 ON, 한솥도시락 전체 메뉴 접속\n",
    "driver = wb.Chrome(service = s, options=options)\n",
    "driver.get(\"https://www.hsd.co.kr/menu/menu_list\")\n",
    "\n",
    "# 2. [더보기] 클릭해서 전체 메뉴 출력!\n",
    "driver.maximize_window()\n",
    "\n",
    "while True:\n",
    "    try:\n",
    "        btn = driver.find_element(By.CSS_SELECTOR, \"a.c_05\")\n",
    "        btn.click()\n",
    "        print(\"더보기 클릭\")\n",
    "        time.sleep(1)\n",
    "    except:\n",
    "        print(\"더보기 클릭 완료\")\n",
    "        break\n",
    "\n",
    "# 3. 메뉴 이름, 가격 수집 여러개니까 s붙임.\n",
    "menu = driver.find_elements(By.CSS_SELECTOR, \"div.item-text > h4\")\n",
    "price = driver.find_elements(By.CSS_SELECTOR, \"div.item-text > div > strong\")\n",
    "\n",
    "#4. 텍스트 추출\n",
    "menu_list = [m.text for m in menu]\n",
    "price_list = [p.text for p in price]\n",
    "\n",
    "#5. DataFrame 제작, CSV 저장\n",
    "dict = {\n",
    "    \"메뉴\" : menu_list,\n",
    "    \"가격\" : price_list\n",
    " }\n",
    "hansot = pd.DataFrame(dict)\n",
    "\n",
    "hansot.to_csv(\"한솥메뉴.csv\", encoding=\"utf-8\")\n",
    "\n",
    "driver.quit()"
   ]
  },
  {
   "cell_type": "code",
   "execution_count": null,
   "id": "ecbcd22b-f088-47ee-baf9-7bd75fd2baf8",
   "metadata": {},
   "outputs": [],
   "source": []
  },
  {
   "cell_type": "code",
   "execution_count": null,
   "id": "07fdf7ac-f51e-40e1-a558-4c385f8926a2",
   "metadata": {},
   "outputs": [],
   "source": []
  },
  {
   "cell_type": "code",
   "execution_count": null,
   "id": "5b3622af-2c68-40ee-a279-9e11de96721a",
   "metadata": {},
   "outputs": [],
   "source": []
  },
  {
   "cell_type": "code",
   "execution_count": null,
   "id": "264debd0-1fa5-46b3-a3ec-c35f671e3a32",
   "metadata": {},
   "outputs": [],
   "source": []
  }
 ],
 "metadata": {
  "kernelspec": {
   "display_name": "Python 3 (ipykernel)",
   "language": "python",
   "name": "python3"
  },
  "language_info": {
   "codemirror_mode": {
    "name": "ipython",
    "version": 3
   },
   "file_extension": ".py",
   "mimetype": "text/x-python",
   "name": "python",
   "nbconvert_exporter": "python",
   "pygments_lexer": "ipython3",
   "version": "3.11.7"
  }
 },
 "nbformat": 4,
 "nbformat_minor": 5
}
