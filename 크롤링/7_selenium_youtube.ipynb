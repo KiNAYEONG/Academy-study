{
 "cells": [
  {
   "cell_type": "code",
   "execution_count": 6,
   "id": "ede14826-d01a-4fe2-af46-eda12beff956",
   "metadata": {},
   "outputs": [],
   "source": [
    "from selenium.webdriver.chrome.service import Service\n",
    "from webdriver_manager.chrome import ChromeDriverManager\n",
    "from selenium.webdriver.chrome.options import Options\n",
    "\n",
    "from selenium import webdriver as wb\n",
    "from selenium.webdriver.common.keys import Keys\n",
    "from selenium.webdriver.common.by import By\n",
    "\n",
    "import pandas as pd\n",
    "import time\n",
    "from tqdm import tqdm as tq\n",
    "from bs4 import BeautifulSoup as bs\n",
    "import os\n",
    "\n",
    "options = Options()\n",
    "options.add_argument(\"disable-blink-features=AutomationControlled\")  # 자동화 탐지 방지\n",
    "options.add_experimental_option(\"excludeSwitches\", [\"enable-automation\"])  # 자동화 표시 제거\n",
    "options.add_experimental_option('useAutomationExtension', False)  # 자동화 확장 기능 사용 안 함\n"
   ]
  },
  {
   "cell_type": "code",
   "execution_count": 7,
   "id": "957a79e1-2aa8-484f-a42b-7a95d191e8d1",
   "metadata": {},
   "outputs": [],
   "source": [
    "s = Service(ChromeDriverManager().install()) #\"127.0.6533.119\" 명시하면 강제로 다운 가능\n",
    "driver = wb.Chrome(service = s, options=options)"
   ]
  },
  {
   "cell_type": "code",
   "execution_count": 8,
   "id": "f3877a94-3413-47a2-8947-cec2ac808d7c",
   "metadata": {},
   "outputs": [],
   "source": [
    "keyword = \"챗봇\"\n",
    "url = f\"https://www.youtube.com/results?search_query={keyword}\"\n",
    "driver.get(url)"
   ]
  },
  {
   "cell_type": "markdown",
   "id": "650b1cce-c9d7-4bc0-aee4-510d97e8926d",
   "metadata": {},
   "source": [
    "##### Naming Rule\n",
    "keyword : smart media\n",
    "1. 파스칼 표기법    -> SmartMedia\n",
    "2. 카멜 표기법      -> smartMedia\n",
    "3. 스네이크 표기법  -> smart_media\n",
    "4. 케밥 표기법      -> smart-media"
   ]
  },
  {
   "cell_type": "code",
   "execution_count": 10,
   "id": "11d2b5e0-6601-47ab-b21f-984631b2fff5",
   "metadata": {},
   "outputs": [
    {
     "name": "stdout",
     "output_type": "stream",
     "text": [
      "챗봇, 개념만 이해하기\n",
      "[FULL] 요즘 AI 트렌드는 OO이에요! (김덕진 소장, 서승완 대표)\n",
      "[챗GPT] 이보다 쉬운 설명은 없다 '챗GPT' (홍진경,안될과학,궤도, eng)\n",
      "[에디터픽] “인생 끝났네요” 개발자들 한숨...AI 챗봇의 놀라운 능력 / YTN\n",
      "챗GPT 어렵다구요..? 챗GPT (ChatGPT) 사용법 4분만에 배우기(회원가입, 질문방법, 번역하기 등) #chatGPT #챗GPT #사용법\n",
      "'맞춤형 AI 챗봇' 장터 개막…아이디어 벌써 300만 건 / SBS 8뉴스\n",
      "[강의 미리보기] ChatGPT로 진짜같은 챗봇 만드는 법! GPTs Knowledge 기능 1000% 활용하기!\n",
      "챗GPT와 대화가 즐거운이유(안부부터 물어보는 따뜻한 친구 오늘 기분이 어때?)\n",
      "챗GPT 너 뭐 돼? 허점 찾아냈습니다😎 만능 챗봇 4분 만에 완벽 파악하기 | [차이나는 시사&] 8회\n",
      "[아무튼 출근] AI 로봇의 선생님🤖 정답률 100%를 꿈꾸는 챗봇 서비스 기획자 정다은!ㅣ#챗봇서비스기획자 #정다은 MBC210608방송\n",
      "[속보] GPT-4o (OpenAI) GPTS 모두 무료!!! 오픈! 50+ GPTS 챗봇 좌표! 이 영상으로 지금 확인하세요!\n",
      "LLM이 만드는 엔터프라이즈 AI 챗봇 혁신 [세미남446@토크아이티, 전상호 지사장 / 코어에이아이]\n",
      "AI 챗봇, 이젠 이런 거까지 가능합니다 (IT커뮤니케이션연구소 김덕진 소장, 유메타랩 서승완 대표)\n",
      "파이썬으로 나만의 AI 챗봇 만들기\n",
      "ChatGPT A부터 Z까지 모든 걸 5분만에 알려드립니다 (개념/원리/사용법/적용분야)\n",
      "안녕...👋 AI 챗봇 '이루다' 서비스 중단, 이전에도 똑같은 일 있었다 / 스브스뉴스\n",
      "챗GPT 활용 나만의 챗봇 만들기 : 3)10분만에 챗봇만들기\n",
      "이것은 로봇인가 인간인가, 대화형 챗봇의 등장｜[지식채널e]\n",
      "텍스트 인식, 번역, 대화까지 가능한 ‘카카오’ AI 챗봇, 일주일 만에 ‘10만 명’ 돌풍 / 14F\n"
     ]
    }
   ],
   "source": [
    "# 유튜브 대형 플랫폼은 본인들이 만든 태그를 활용해서 웹페이지를 구현하기도 함\n",
    "# 심지어, ID 선택자도 class처럼 다중 부여해서 사용하는 경우도 있음!\n",
    "titles = driver.find_elements(By.CSS_SELECTOR, \"#video-title > yt-formatted-string\")\n",
    "for title in titles:\n",
    "    print(title.text)"
   ]
  },
  {
   "cell_type": "code",
   "execution_count": 15,
   "id": "5c41a31e-439c-4ffd-a5e8-1db2292c29a4",
   "metadata": {},
   "outputs": [],
   "source": [
    "video_url = driver.find_elements(By.CSS_SELECTOR, \"a#video-title\")\n",
    "title_list = []\n",
    "url_list = []\n",
    "\n",
    "\n",
    "for url in video_url:\n",
    "    # print(url.text)  # text\n",
    "    title_list.append(url.text)\n",
    "    # print(url.get_attribute(\"href\"))  # link\n",
    "    url_list.append(url.get_attribute(\"href\"))\n",
    "\n",
    "dict = {\n",
    "    \"제목\" : title_list,\n",
    "    \"URL\" : url_list\n",
    "}\n",
    "youtube = pd.DataFrame(dict)\n",
    "youtube.to_csv(f\"youtube_{keyword}.csv\", encoding=\"UTF-8\")"
   ]
  },
  {
   "cell_type": "code",
   "execution_count": null,
   "id": "da32ae25-af2f-44cc-aeac-926b1b10bc2b",
   "metadata": {},
   "outputs": [],
   "source": []
  },
  {
   "cell_type": "code",
   "execution_count": null,
   "id": "b943cdb4-53ad-4d4a-b7da-219e12e2b8bd",
   "metadata": {},
   "outputs": [],
   "source": []
  },
  {
   "cell_type": "code",
   "execution_count": null,
   "id": "882accd8-8803-4de9-b6ee-b62e84157450",
   "metadata": {},
   "outputs": [],
   "source": []
  },
  {
   "cell_type": "code",
   "execution_count": null,
   "id": "df02237d-091f-4809-94ae-8c0da967bb8a",
   "metadata": {},
   "outputs": [],
   "source": []
  }
 ],
 "metadata": {
  "kernelspec": {
   "display_name": "Python 3 (ipykernel)",
   "language": "python",
   "name": "python3"
  },
  "language_info": {
   "codemirror_mode": {
    "name": "ipython",
    "version": 3
   },
   "file_extension": ".py",
   "mimetype": "text/x-python",
   "name": "python",
   "nbconvert_exporter": "python",
   "pygments_lexer": "ipython3",
   "version": "3.11.7"
  }
 },
 "nbformat": 4,
 "nbformat_minor": 5
}
