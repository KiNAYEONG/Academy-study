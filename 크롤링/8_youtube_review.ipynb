{
 "cells": [
  {
   "cell_type": "markdown",
   "id": "88b15240-9a3e-443e-b2ea-943f19241810",
   "metadata": {},
   "source": [
    "### YOUTUBE 리뷰 수집"
   ]
  },
  {
   "cell_type": "code",
   "execution_count": 1,
   "id": "0f5628e6-bd47-447f-894b-6d6c73e8db57",
   "metadata": {},
   "outputs": [],
   "source": [
    "from selenium.webdriver.chrome.service import Service\n",
    "from webdriver_manager.chrome import ChromeDriverManager\n",
    "from selenium.webdriver.chrome.options import Options\n",
    "\n",
    "from selenium import webdriver as wb\n",
    "from selenium.webdriver.common.keys import Keys\n",
    "from selenium.webdriver.common.by import By\n",
    "\n",
    "import pandas as pd\n",
    "import time\n",
    "from tqdm import tqdm as tq\n",
    "from bs4 import BeautifulSoup as bs\n",
    "import os\n",
    "\n",
    "options = Options()\n",
    "options.add_argument(\"disable-blink-features=AutomationControlled\")  # 자동화 탐지 방지\n",
    "options.add_experimental_option(\"excludeSwitches\", [\"enable-automation\"])  # 자동화 표시 제거\n",
    "options.add_experimental_option('useAutomationExtension', False)  # 자동화 확장 기능 사용 안 함\n"
   ]
  },
  {
   "cell_type": "code",
   "execution_count": 10,
   "id": "7c584dab-1f7f-4c21-8415-d9087f296b4b",
   "metadata": {},
   "outputs": [
    {
     "name": "stdout",
     "output_type": "stream",
     "text": [
      "리뷰 100건으로 종료\n"
     ]
    }
   ],
   "source": [
    "def review_collection():\n",
    "    # YOUTUBE 댓글 수집 기능\n",
    "    s = Service(ChromeDriverManager().install()) #\"127.0.6533.119\" 명시하면 강제로 다운 가능\n",
    "    driver = wb.Chrome(service = s, options=options)\n",
    "    url = \"https://www.youtube.com/watch?v=91TNlSs9S_0\"\n",
    "    driver.get(url)\n",
    "\n",
    "    driver.maximize_window()\n",
    "    time.sleep(2)\n",
    "\n",
    "    # 스크롤을 내려야, 리뷰 로딩해서 출력\n",
    "    body = driver.find_element(By.TAG_NAME, \"body\")\n",
    "    body.send_keys(Keys.END)\n",
    "    time.sleep(2)\n",
    "\n",
    "    # 기존의 리뷰 개수!\n",
    "    soup = bs(driver.page_source,\"lxml\")\n",
    "    review_cnt = soup.select(\"yt-attributed-string#content-text > span\")\n",
    "\n",
    "    old_cnt = len(review_cnt)\n",
    "    while True: # 스크롤 하강\n",
    "        body = driver.find_element(By.TAG_NAME, \"body\")\n",
    "        body.send_keys(Keys.END)\n",
    "        time.sleep(2)\n",
    "        soup = bs(driver.page_source, \"lxml\")\n",
    "        review_cnt = soup.select(\"yt-attributed-string#content-text > span\")\n",
    "\n",
    "        if len(review_cnt) >= 100:\n",
    "            print(\"리뷰 100건으로 종료\")\n",
    "            break\n",
    "\n",
    "        new_cnt = len(review_cnt)\n",
    "        if old_cnt == new_cnt:\n",
    "            break\n",
    "        old_cnt = new_cnt\n",
    "\n",
    "        # 작성자 수집\n",
    "        # 리뷰 수집\n",
    "        writer = driver.find_elements(By.CSS_SELECTOR, \"#author-text > span \")\n",
    "        review = driver.find_elements(By.CSS_SELECTOR, \"yt-attributed-string#content-text > span\")\n",
    "\n",
    "        # 주인장 리뷰 삭제(분석에 의미가 없음)\n",
    "        del writer[0]\n",
    "        del review[0]\n",
    "\n",
    "        id_list = [id.text for id in writer]\n",
    "        re_list = [re.text for re in review]\n",
    "\n",
    "        dict = {\n",
    "            \"ID\" : id_list,\n",
    "            \"리뷰\" : re_list\n",
    "        }\n",
    "\n",
    "        df = pd.DataFrame(dict)\n",
    "        df.to_csv(\"youtube_review.csv\", encoding = \"UTF-8\")\n",
    "review_collection()"
   ]
  },
  {
   "cell_type": "markdown",
   "id": "08a745e9-ddc6-4b0f-98f5-524110d62fe8",
   "metadata": {},
   "source": [
    "## "
   ]
  },
  {
   "cell_type": "code",
   "execution_count": null,
   "id": "43d0e431-e202-4e5a-9271-32f329ffd09a",
   "metadata": {},
   "outputs": [],
   "source": []
  },
  {
   "cell_type": "code",
   "execution_count": null,
   "id": "91eeed31-8a68-47c6-8466-1a1e2c28eaeb",
   "metadata": {},
   "outputs": [],
   "source": []
  }
 ],
 "metadata": {
  "kernelspec": {
   "display_name": "Python 3 (ipykernel)",
   "language": "python",
   "name": "python3"
  },
  "language_info": {
   "codemirror_mode": {
    "name": "ipython",
    "version": 3
   },
   "file_extension": ".py",
   "mimetype": "text/x-python",
   "name": "python",
   "nbconvert_exporter": "python",
   "pygments_lexer": "ipython3",
   "version": "3.11.7"
  }
 },
 "nbformat": 4,
 "nbformat_minor": 5
}
