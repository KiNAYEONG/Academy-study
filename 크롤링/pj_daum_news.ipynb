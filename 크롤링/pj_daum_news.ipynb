{
 "cells": [
  {
   "cell_type": "markdown",
   "id": "2b06b776-a1c4-4a44-9bf2-63b153a79390",
   "metadata": {},
   "source": [
    "## 프로젝트 : 다음 뉴스 수집기\n",
    "1. 단건 뉴스 URl(제목, 본문) 수집\n",
    "2. Page 내 뉴스(10건) URL(제목, 본문) 수집\n",
    "3. 전체 Page 내 뉴스(10건) URL(제목, 본문) 수집\n",
    "\n",
    "- url(https://news.daum.net/breakingnews/digital)\n",
    "- 1 Page → 기사 15건\n",
    "\n",
    "### 데이터 수집 순서\n",
    "1. URL 설정\n",
    "2. Requests 전체 HTMl 소스 가져오기\n",
    "3. BeautifulSoup HTML 소스 파싱\n",
    "4. Select로 데이터 수집"
   ]
  },
  {
   "cell_type": "markdown",
   "id": "35c91980-7ba7-46d7-9bea-5033151060b6",
   "metadata": {},
   "source": [
    "### 1. 다음 뉴스 1건 수집(제목, 날짜, 본문)"
   ]
  },
  {
   "cell_type": "code",
   "execution_count": 26,
   "id": "fe1015de-0981-4e03-b9b7-30085c79020a",
   "metadata": {},
   "outputs": [
    {
     "name": "stdout",
     "output_type": "stream",
     "text": [
      "제목 : 컴투스홀딩스, 캐주얼 MMOARPG '만링이야기' 퍼블리싱 계약 체결\n",
      "날짜 : 2024. 8. 12.\n",
      "본문 : 컴투스홀딩스는 광저우 이위 네트워크 기술 유한공사와 캐주얼 MMOARPG '만링이야기(가제)' 퍼블리싱 계약을 체결했다고 12일 밝혔다.이위 게임즈는 인기 MMORPG '히어로즈 테일즈' 개발진이 주축이 돼 2022년 설립한 회사다. 1년 이상의 기간에 걸쳐 만링이야기를 개발 중이다. 게임성을 더욱 가다듬어 2025년 상반기 국내에 선보일 예정이다.만링이야기는 캐주얼하고 아기자기한 그래픽을 기반으로 액션성을 강조한 MMOARPG 장르다. 전사, 마법사, 성직자, 궁수 등 총 4개 직업 가운데 하나를 선택할 수 있다. 새로운 직업은 업데이트를 통해 추가적으로 늘려 나간다는 계획이다. 던전, 길드, 랭킹 시스템 등 짜임새 있는 게임 콘텐츠가 특징이다. 장비와 펫, 만링석 등 육성 요소들을 활용해 캐릭터를 강력하게 성장시키는 재미를 느낄 수 있다.컴투스홀딩스는 연이은 퍼블리싱 계약을 통해 신작 라인업 확대에 나섰다. 최근에는 던전 탐험형 로그라이트 RPG '가이더스 제로'와 메트로배니아 액션 RPG '페이탈 클로(가제)'의 퍼블리싱 계약을 체결했다. PC 및 콘솔 기반 작품들로 서비스 영역을 넓힘과 동시에 모바일 기반 작품도 지속적으로 확보해 게임 사업을 더욱 견고히 할 계획이다.박정은 기자 jepark@etnews.com\n"
     ]
    }
   ],
   "source": [
    "import requests\n",
    "from bs4 import BeautifulSoup as bs\n",
    "\n",
    "# 다음 뉴스 1건(제목, 날짜, 본문)\n",
    "url = \"https://v.daum.net/v/20240812112203044\"\n",
    "\n",
    "res = requests.get(url)\n",
    "#print(res)\n",
    "soup = bs(res.text, \"lxml\")\n",
    "\n",
    "# 제목, 날짜, 본문\n",
    "title = soup.select(\"h3.tit_view\")[0].text\n",
    "reg_date = soup.select(\"span.num_date\")[0].text\n",
    "content_list = soup.select(\"div.article_view p\")\n",
    "\n",
    "# content_list -> 분리된 뉴스 본문(p) 여러개 LIST 저장\n",
    "content = \"\"\n",
    "for i in content_list :\n",
    "    content += i.text\n",
    "\n",
    "print(f\"제목 : {title}\")\n",
    "print(f\"날짜 : {reg_date[:12]}\") # 파이썬은 문자열을 list로 본다.\n",
    "print(f\"본문 : {content}\")"
   ]
  },
  {
   "cell_type": "code",
   "execution_count": null,
   "id": "a66745f4-b58d-4839-bbb8-09862ab3b6fe",
   "metadata": {},
   "outputs": [],
   "source": []
  },
  {
   "cell_type": "code",
   "execution_count": null,
   "id": "dc46d606-0b3b-40c4-9416-aa1a3dae7b18",
   "metadata": {},
   "outputs": [],
   "source": []
  },
  {
   "cell_type": "code",
   "execution_count": null,
   "id": "59b96c9a-f9b8-4569-8d0a-ac5b5c3cd0ea",
   "metadata": {},
   "outputs": [],
   "source": []
  },
  {
   "cell_type": "code",
   "execution_count": null,
   "id": "5e7ff7d1-1568-432b-b9cf-97f8ff358c92",
   "metadata": {},
   "outputs": [],
   "source": []
  },
  {
   "cell_type": "code",
   "execution_count": null,
   "id": "e22b6c50-88a2-48b3-bbfb-1e9fb188ece6",
   "metadata": {},
   "outputs": [],
   "source": []
  },
  {
   "cell_type": "code",
   "execution_count": null,
   "id": "5a5b300c-a71b-4e67-95da-fb3fbab06d85",
   "metadata": {},
   "outputs": [],
   "source": []
  }
 ],
 "metadata": {
  "kernelspec": {
   "display_name": "Python 3 (ipykernel)",
   "language": "python",
   "name": "python3"
  },
  "language_info": {
   "codemirror_mode": {
    "name": "ipython",
    "version": 3
   },
   "file_extension": ".py",
   "mimetype": "text/x-python",
   "name": "python",
   "nbconvert_exporter": "python",
   "pygments_lexer": "ipython3",
   "version": "3.11.7"
  }
 },
 "nbformat": 4,
 "nbformat_minor": 5
}
