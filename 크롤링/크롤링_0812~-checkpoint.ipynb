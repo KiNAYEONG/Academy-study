{
 "cells": [
  {
   "cell_type": "markdown",
   "id": "b065acdb-bae0-41ef-9a21-91a5000b8f70",
   "metadata": {},
   "source": [
    "### 웹 크롤링\n",
    "- 크롤링을 통해서 웹 사이트에서 데이터를 수집하는 행위\n",
    "\n",
    "### 인공지능 개발 과정\n",
    "1. 데이터 수집\n",
    "2. 데이터 저장\n",
    "3. 탐색적 데이터 분석(EDA)\n",
    "4. 데이터 가공\n",
    "5. 베이스라인 모델 개발\n",
    "6. 성능 평가\n",
    "7. 모델 튜닝\n",
    "8. 서비스\n",
    "\n",
    "### 데이터 수집 방법\n",
    "1. 서버 -> 서비스를 하는 컴퓨터, 모니터 굳이 필요X, 하드웨어만 있으면 됨. if 모니터 필요하면 그때 연결\n",
    "2. 데이터베이스\n",
    "3. Open API\n",
    "4. RAW(CSV, XLSW, TXT 등)\n",
    "5. 웹 크롤링\n",
    "\n",
    "### HTML, CSS \n",
    "\n",
    "### 웹 크롤링 기술\n",
    "1. 정적 페이지 > requests + Beautifulsoup\n",
    "2. 동적 페이지 > selenium "
   ]
  },
  {
   "cell_type": "code",
   "execution_count": null,
   "id": "9f894e7f-c8b2-4f18-be88-4acd12ddad52",
   "metadata": {},
   "outputs": [],
   "source": [
    "# requests \n",
    "\n",
    "#      클라이언트(웹 브라우저)\n",
    "#      ↓(request) ↑(response)\n",
    "#             서버\n",
    "\n",
    "# 회사(AI 부서) : 고양이, 강아지 분류하는 인공지능 모델 개발!\n",
    "# 회사(웹 부서) : 웹 서비스 개발\n",
    "\n",
    "# 1. 프론트엔드(이미지 업로드)\n",
    "# 2. 백엔드(API)\n",
    "# 3. 백엔드 → request → 인공지능 API \n",
    "\n",
    "import requests"
   ]
  },
  {
   "cell_type": "code",
   "execution_count": null,
   "id": "1872755b-8fd3-4e48-9283-b198fbeef87c",
   "metadata": {},
   "outputs": [],
   "source": [
    "print"
   ]
  },
  {
   "cell_type": "code",
   "execution_count": null,
   "id": "d8cecba2-cc99-49f5-a519-c4495ab4afbb",
   "metadata": {},
   "outputs": [],
   "source": []
  },
  {
   "cell_type": "code",
   "execution_count": null,
   "id": "4f9f1cc3-bab5-42f2-9594-c5cdc39d7455",
   "metadata": {},
   "outputs": [],
   "source": []
  },
  {
   "cell_type": "code",
   "execution_count": null,
   "id": "bb43a86a-d0b1-4bfc-895c-2b5747468efb",
   "metadata": {},
   "outputs": [],
   "source": []
  },
  {
   "cell_type": "code",
   "execution_count": null,
   "id": "5a58cd35-0f9b-4ceb-bd16-2992f04306bc",
   "metadata": {},
   "outputs": [],
   "source": []
  },
  {
   "cell_type": "code",
   "execution_count": null,
   "id": "572a136a-6662-41dc-b008-661eb5bcb548",
   "metadata": {},
   "outputs": [],
   "source": []
  },
  {
   "cell_type": "code",
   "execution_count": null,
   "id": "f2d0f6e1-e32b-4f9e-b3ae-e490a62713b3",
   "metadata": {},
   "outputs": [],
   "source": []
  },
  {
   "cell_type": "code",
   "execution_count": null,
   "id": "bfb3f06a-b537-4ed0-adae-5bfcbe3c7819",
   "metadata": {},
   "outputs": [],
   "source": []
  }
 ],
 "metadata": {
  "kernelspec": {
   "display_name": "Python 3 (ipykernel)",
   "language": "python",
   "name": "python3"
  },
  "language_info": {
   "codemirror_mode": {
    "name": "ipython",
    "version": 3
   },
   "file_extension": ".py",
   "mimetype": "text/x-python",
   "name": "python",
   "nbconvert_exporter": "python",
   "pygments_lexer": "ipython3",
   "version": "3.11.7"
  }
 },
 "nbformat": 4,
 "nbformat_minor": 5
}
